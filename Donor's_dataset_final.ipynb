{
 "cells": [
  {
   "cell_type": "markdown",
   "id": "dd0424e8",
   "metadata": {
    "id": "90c3825c"
   },
   "source": [
    "# Importing Libraries:"
   ]
  },
  {
   "cell_type": "code",
   "execution_count": 58,
   "id": "e2998fd9",
   "metadata": {
    "id": "7c450b2b"
   },
   "outputs": [],
   "source": [
    "import numpy as np\n",
    "import seaborn as sns\n",
    "import matplotlib.pyplot as plt\n",
    "import pandas as pd\n",
    "import plotly.express as px\n",
    "from sklearn.feature_extraction.text import CountVectorizer\n",
    "from sklearn.feature_extraction.text import TfidfVectorizer\n",
    "from tqdm import tqdm\n",
    "from gensim.models import Word2Vec\n",
    "import nltk\n",
    "from nltk.corpus import stopwords\n",
    "from nltk.stem import WordNetLemmatizer \n",
    "import re\n",
    "from sklearn.model_selection import train_test_split\n",
    "from sklearn.preprocessing import OneHotEncoder\n",
    "from sklearn.preprocessing import Normalizer\n",
    "from sklearn.preprocessing import MinMaxScaler\n",
    "from scipy.sparse import hstack\n",
    "from sklearn.metrics import roc_curve, auc\n",
    "from sklearn.metrics import roc_auc_score\n",
    "from sklearn.naive_bayes import MultinomialNB\n",
    "from sklearn.ensemble import RandomForestClassifier\n",
    "from sklearn.calibration import CalibratedClassifierCV\n",
    "from sklearn.model_selection import RandomizedSearchCV"
   ]
  },
  {
   "cell_type": "code",
   "execution_count": 59,
   "id": "7f3efc42",
   "metadata": {
    "colab": {
     "base_uri": "https://localhost:8080/"
    },
    "id": "69b59ccc",
    "outputId": "7436b4e2-25f8-45ca-cd00-cdcbd23af182"
   },
   "outputs": [
    {
     "name": "stdout",
     "output_type": "stream",
     "text": [
      "Mounted at /gdrive\n"
     ]
    }
   ],
   "source": [
    "from google.colab import drive\n",
    "drive.mount('/gdrive')"
   ]
  },
  {
   "cell_type": "code",
   "execution_count": 60,
   "id": "0b090e34",
   "metadata": {
    "colab": {
     "base_uri": "https://localhost:8080/"
    },
    "id": "e24e8864",
    "outputId": "2379348d-2b92-452a-804d-fb87bf44d8b8"
   },
   "outputs": [
    {
     "name": "stdout",
     "output_type": "stream",
     "text": [
      "Mounted at /content/drive\n"
     ]
    }
   ],
   "source": [
    "from google.colab import drive\n",
    "drive.mount('/content/drive')"
   ]
  },
  {
   "cell_type": "code",
   "execution_count": 61,
   "id": "e376fd84",
   "metadata": {
    "id": "36b50925"
   },
   "outputs": [],
   "source": [
    "# Reading data and dropping some features:\n",
    "path = '/content/drive/MyDrive/dataset/train_donor.csv'\n",
    "data = pd.read_csv(path)\n",
    "new = data.drop(['teacher_id','Unnamed: 0','project_essay_3','project_essay_4','project_submitted_datetime'],axis = 1)\n",
    "#new = new.sample(n = 3000)"
   ]
  },
  {
   "cell_type": "code",
   "execution_count": 62,
   "id": "89757eb4",
   "metadata": {
    "id": "c5aa6593"
   },
   "outputs": [],
   "source": [
    "path2 = '/content/drive/MyDrive/dataset/resources.csv'\n",
    "resource = pd.read_csv(path2)"
   ]
  },
  {
   "cell_type": "code",
   "execution_count": 63,
   "id": "5d40a255",
   "metadata": {
    "colab": {
     "base_uri": "https://localhost:8080/",
     "height": 315
    },
    "id": "9ac85580",
    "outputId": "9835abd5-c758-4ac9-9745-429cf9bd8247"
   },
   "outputs": [
    {
     "name": "stdout",
     "output_type": "stream",
     "text": [
      "(109248, 12)\n"
     ]
    },
    {
     "data": {
      "text/html": [
       "\n",
       "  <div id=\"df-99677c46-2daa-4e89-a2f5-36585bb75c40\">\n",
       "    <div class=\"colab-df-container\">\n",
       "      <div>\n",
       "<style scoped>\n",
       "    .dataframe tbody tr th:only-of-type {\n",
       "        vertical-align: middle;\n",
       "    }\n",
       "\n",
       "    .dataframe tbody tr th {\n",
       "        vertical-align: top;\n",
       "    }\n",
       "\n",
       "    .dataframe thead th {\n",
       "        text-align: right;\n",
       "    }\n",
       "</style>\n",
       "<table border=\"1\" class=\"dataframe\">\n",
       "  <thead>\n",
       "    <tr style=\"text-align: right;\">\n",
       "      <th></th>\n",
       "      <th>id</th>\n",
       "      <th>teacher_prefix</th>\n",
       "      <th>school_state</th>\n",
       "      <th>project_grade_category</th>\n",
       "      <th>project_subject_categories</th>\n",
       "      <th>project_subject_subcategories</th>\n",
       "      <th>project_title</th>\n",
       "      <th>project_essay_1</th>\n",
       "      <th>project_essay_2</th>\n",
       "      <th>project_resource_summary</th>\n",
       "      <th>teacher_number_of_previously_posted_projects</th>\n",
       "      <th>project_is_approved</th>\n",
       "    </tr>\n",
       "  </thead>\n",
       "  <tbody>\n",
       "    <tr>\n",
       "      <th>0</th>\n",
       "      <td>p253737</td>\n",
       "      <td>Mrs.</td>\n",
       "      <td>IN</td>\n",
       "      <td>Grades PreK-2</td>\n",
       "      <td>Literacy &amp; Language</td>\n",
       "      <td>ESL, Literacy</td>\n",
       "      <td>Educational Support for English Learners at Home</td>\n",
       "      <td>My students are English learners that are work...</td>\n",
       "      <td>\\\"The limits of your language are the limits o...</td>\n",
       "      <td>My students need opportunities to practice beg...</td>\n",
       "      <td>0</td>\n",
       "      <td>0</td>\n",
       "    </tr>\n",
       "    <tr>\n",
       "      <th>1</th>\n",
       "      <td>p258326</td>\n",
       "      <td>Mr.</td>\n",
       "      <td>FL</td>\n",
       "      <td>Grades 6-8</td>\n",
       "      <td>History &amp; Civics, Health &amp; Sports</td>\n",
       "      <td>Civics &amp; Government, Team Sports</td>\n",
       "      <td>Wanted: Projector for Hungry Learners</td>\n",
       "      <td>Our students arrive to our school eager to lea...</td>\n",
       "      <td>The projector we need for our school is very c...</td>\n",
       "      <td>My students need a projector to help with view...</td>\n",
       "      <td>7</td>\n",
       "      <td>1</td>\n",
       "    </tr>\n",
       "  </tbody>\n",
       "</table>\n",
       "</div>\n",
       "      <button class=\"colab-df-convert\" onclick=\"convertToInteractive('df-99677c46-2daa-4e89-a2f5-36585bb75c40')\"\n",
       "              title=\"Convert this dataframe to an interactive table.\"\n",
       "              style=\"display:none;\">\n",
       "        \n",
       "  <svg xmlns=\"http://www.w3.org/2000/svg\" height=\"24px\"viewBox=\"0 0 24 24\"\n",
       "       width=\"24px\">\n",
       "    <path d=\"M0 0h24v24H0V0z\" fill=\"none\"/>\n",
       "    <path d=\"M18.56 5.44l.94 2.06.94-2.06 2.06-.94-2.06-.94-.94-2.06-.94 2.06-2.06.94zm-11 1L8.5 8.5l.94-2.06 2.06-.94-2.06-.94L8.5 2.5l-.94 2.06-2.06.94zm10 10l.94 2.06.94-2.06 2.06-.94-2.06-.94-.94-2.06-.94 2.06-2.06.94z\"/><path d=\"M17.41 7.96l-1.37-1.37c-.4-.4-.92-.59-1.43-.59-.52 0-1.04.2-1.43.59L10.3 9.45l-7.72 7.72c-.78.78-.78 2.05 0 2.83L4 21.41c.39.39.9.59 1.41.59.51 0 1.02-.2 1.41-.59l7.78-7.78 2.81-2.81c.8-.78.8-2.07 0-2.86zM5.41 20L4 18.59l7.72-7.72 1.47 1.35L5.41 20z\"/>\n",
       "  </svg>\n",
       "      </button>\n",
       "      \n",
       "  <style>\n",
       "    .colab-df-container {\n",
       "      display:flex;\n",
       "      flex-wrap:wrap;\n",
       "      gap: 12px;\n",
       "    }\n",
       "\n",
       "    .colab-df-convert {\n",
       "      background-color: #E8F0FE;\n",
       "      border: none;\n",
       "      border-radius: 50%;\n",
       "      cursor: pointer;\n",
       "      display: none;\n",
       "      fill: #1967D2;\n",
       "      height: 32px;\n",
       "      padding: 0 0 0 0;\n",
       "      width: 32px;\n",
       "    }\n",
       "\n",
       "    .colab-df-convert:hover {\n",
       "      background-color: #E2EBFA;\n",
       "      box-shadow: 0px 1px 2px rgba(60, 64, 67, 0.3), 0px 1px 3px 1px rgba(60, 64, 67, 0.15);\n",
       "      fill: #174EA6;\n",
       "    }\n",
       "\n",
       "    [theme=dark] .colab-df-convert {\n",
       "      background-color: #3B4455;\n",
       "      fill: #D2E3FC;\n",
       "    }\n",
       "\n",
       "    [theme=dark] .colab-df-convert:hover {\n",
       "      background-color: #434B5C;\n",
       "      box-shadow: 0px 1px 3px 1px rgba(0, 0, 0, 0.15);\n",
       "      filter: drop-shadow(0px 1px 2px rgba(0, 0, 0, 0.3));\n",
       "      fill: #FFFFFF;\n",
       "    }\n",
       "  </style>\n",
       "\n",
       "      <script>\n",
       "        const buttonEl =\n",
       "          document.querySelector('#df-99677c46-2daa-4e89-a2f5-36585bb75c40 button.colab-df-convert');\n",
       "        buttonEl.style.display =\n",
       "          google.colab.kernel.accessAllowed ? 'block' : 'none';\n",
       "\n",
       "        async function convertToInteractive(key) {\n",
       "          const element = document.querySelector('#df-99677c46-2daa-4e89-a2f5-36585bb75c40');\n",
       "          const dataTable =\n",
       "            await google.colab.kernel.invokeFunction('convertToInteractive',\n",
       "                                                     [key], {});\n",
       "          if (!dataTable) return;\n",
       "\n",
       "          const docLinkHtml = 'Like what you see? Visit the ' +\n",
       "            '<a target=\"_blank\" href=https://colab.research.google.com/notebooks/data_table.ipynb>data table notebook</a>'\n",
       "            + ' to learn more about interactive tables.';\n",
       "          element.innerHTML = '';\n",
       "          dataTable['output_type'] = 'display_data';\n",
       "          await google.colab.output.renderOutput(dataTable, element);\n",
       "          const docLink = document.createElement('div');\n",
       "          docLink.innerHTML = docLinkHtml;\n",
       "          element.appendChild(docLink);\n",
       "        }\n",
       "      </script>\n",
       "    </div>\n",
       "  </div>\n",
       "  "
      ],
      "text/plain": [
       "        id teacher_prefix school_state project_grade_category  \\\n",
       "0  p253737           Mrs.           IN          Grades PreK-2   \n",
       "1  p258326            Mr.           FL             Grades 6-8   \n",
       "\n",
       "          project_subject_categories     project_subject_subcategories  \\\n",
       "0                Literacy & Language                     ESL, Literacy   \n",
       "1  History & Civics, Health & Sports  Civics & Government, Team Sports   \n",
       "\n",
       "                                      project_title  \\\n",
       "0  Educational Support for English Learners at Home   \n",
       "1             Wanted: Projector for Hungry Learners   \n",
       "\n",
       "                                     project_essay_1  \\\n",
       "0  My students are English learners that are work...   \n",
       "1  Our students arrive to our school eager to lea...   \n",
       "\n",
       "                                     project_essay_2  \\\n",
       "0  \\\"The limits of your language are the limits o...   \n",
       "1  The projector we need for our school is very c...   \n",
       "\n",
       "                            project_resource_summary  \\\n",
       "0  My students need opportunities to practice beg...   \n",
       "1  My students need a projector to help with view...   \n",
       "\n",
       "   teacher_number_of_previously_posted_projects  project_is_approved  \n",
       "0                                             0                    0  \n",
       "1                                             7                    1  "
      ]
     },
     "execution_count": 63,
     "metadata": {},
     "output_type": "execute_result"
    }
   ],
   "source": [
    "# Dimensions of the given data:\n",
    "\n",
    "print(new.shape)\n",
    "new.head(2)"
   ]
  },
  {
   "cell_type": "code",
   "execution_count": 64,
   "id": "c4dd50b5",
   "metadata": {
    "colab": {
     "base_uri": "https://localhost:8080/",
     "height": 112
    },
    "id": "af6055b4",
    "outputId": "2d8e014e-d780-4fa9-e9b0-12a7279ea5c2"
   },
   "outputs": [
    {
     "data": {
      "text/html": [
       "\n",
       "  <div id=\"df-8f268398-1d5a-4d29-b103-376c8d403423\">\n",
       "    <div class=\"colab-df-container\">\n",
       "      <div>\n",
       "<style scoped>\n",
       "    .dataframe tbody tr th:only-of-type {\n",
       "        vertical-align: middle;\n",
       "    }\n",
       "\n",
       "    .dataframe tbody tr th {\n",
       "        vertical-align: top;\n",
       "    }\n",
       "\n",
       "    .dataframe thead th {\n",
       "        text-align: right;\n",
       "    }\n",
       "</style>\n",
       "<table border=\"1\" class=\"dataframe\">\n",
       "  <thead>\n",
       "    <tr style=\"text-align: right;\">\n",
       "      <th></th>\n",
       "      <th>id</th>\n",
       "      <th>description</th>\n",
       "      <th>quantity</th>\n",
       "      <th>price</th>\n",
       "    </tr>\n",
       "  </thead>\n",
       "  <tbody>\n",
       "    <tr>\n",
       "      <th>0</th>\n",
       "      <td>p233245</td>\n",
       "      <td>LC652 - Lakeshore Double-Space Mobile Drying Rack</td>\n",
       "      <td>1</td>\n",
       "      <td>149.00</td>\n",
       "    </tr>\n",
       "    <tr>\n",
       "      <th>1</th>\n",
       "      <td>p069063</td>\n",
       "      <td>Bouncy Bands for Desks (Blue support pipes)</td>\n",
       "      <td>3</td>\n",
       "      <td>14.95</td>\n",
       "    </tr>\n",
       "  </tbody>\n",
       "</table>\n",
       "</div>\n",
       "      <button class=\"colab-df-convert\" onclick=\"convertToInteractive('df-8f268398-1d5a-4d29-b103-376c8d403423')\"\n",
       "              title=\"Convert this dataframe to an interactive table.\"\n",
       "              style=\"display:none;\">\n",
       "        \n",
       "  <svg xmlns=\"http://www.w3.org/2000/svg\" height=\"24px\"viewBox=\"0 0 24 24\"\n",
       "       width=\"24px\">\n",
       "    <path d=\"M0 0h24v24H0V0z\" fill=\"none\"/>\n",
       "    <path d=\"M18.56 5.44l.94 2.06.94-2.06 2.06-.94-2.06-.94-.94-2.06-.94 2.06-2.06.94zm-11 1L8.5 8.5l.94-2.06 2.06-.94-2.06-.94L8.5 2.5l-.94 2.06-2.06.94zm10 10l.94 2.06.94-2.06 2.06-.94-2.06-.94-.94-2.06-.94 2.06-2.06.94z\"/><path d=\"M17.41 7.96l-1.37-1.37c-.4-.4-.92-.59-1.43-.59-.52 0-1.04.2-1.43.59L10.3 9.45l-7.72 7.72c-.78.78-.78 2.05 0 2.83L4 21.41c.39.39.9.59 1.41.59.51 0 1.02-.2 1.41-.59l7.78-7.78 2.81-2.81c.8-.78.8-2.07 0-2.86zM5.41 20L4 18.59l7.72-7.72 1.47 1.35L5.41 20z\"/>\n",
       "  </svg>\n",
       "      </button>\n",
       "      \n",
       "  <style>\n",
       "    .colab-df-container {\n",
       "      display:flex;\n",
       "      flex-wrap:wrap;\n",
       "      gap: 12px;\n",
       "    }\n",
       "\n",
       "    .colab-df-convert {\n",
       "      background-color: #E8F0FE;\n",
       "      border: none;\n",
       "      border-radius: 50%;\n",
       "      cursor: pointer;\n",
       "      display: none;\n",
       "      fill: #1967D2;\n",
       "      height: 32px;\n",
       "      padding: 0 0 0 0;\n",
       "      width: 32px;\n",
       "    }\n",
       "\n",
       "    .colab-df-convert:hover {\n",
       "      background-color: #E2EBFA;\n",
       "      box-shadow: 0px 1px 2px rgba(60, 64, 67, 0.3), 0px 1px 3px 1px rgba(60, 64, 67, 0.15);\n",
       "      fill: #174EA6;\n",
       "    }\n",
       "\n",
       "    [theme=dark] .colab-df-convert {\n",
       "      background-color: #3B4455;\n",
       "      fill: #D2E3FC;\n",
       "    }\n",
       "\n",
       "    [theme=dark] .colab-df-convert:hover {\n",
       "      background-color: #434B5C;\n",
       "      box-shadow: 0px 1px 3px 1px rgba(0, 0, 0, 0.15);\n",
       "      filter: drop-shadow(0px 1px 2px rgba(0, 0, 0, 0.3));\n",
       "      fill: #FFFFFF;\n",
       "    }\n",
       "  </style>\n",
       "\n",
       "      <script>\n",
       "        const buttonEl =\n",
       "          document.querySelector('#df-8f268398-1d5a-4d29-b103-376c8d403423 button.colab-df-convert');\n",
       "        buttonEl.style.display =\n",
       "          google.colab.kernel.accessAllowed ? 'block' : 'none';\n",
       "\n",
       "        async function convertToInteractive(key) {\n",
       "          const element = document.querySelector('#df-8f268398-1d5a-4d29-b103-376c8d403423');\n",
       "          const dataTable =\n",
       "            await google.colab.kernel.invokeFunction('convertToInteractive',\n",
       "                                                     [key], {});\n",
       "          if (!dataTable) return;\n",
       "\n",
       "          const docLinkHtml = 'Like what you see? Visit the ' +\n",
       "            '<a target=\"_blank\" href=https://colab.research.google.com/notebooks/data_table.ipynb>data table notebook</a>'\n",
       "            + ' to learn more about interactive tables.';\n",
       "          element.innerHTML = '';\n",
       "          dataTable['output_type'] = 'display_data';\n",
       "          await google.colab.output.renderOutput(dataTable, element);\n",
       "          const docLink = document.createElement('div');\n",
       "          docLink.innerHTML = docLinkHtml;\n",
       "          element.appendChild(docLink);\n",
       "        }\n",
       "      </script>\n",
       "    </div>\n",
       "  </div>\n",
       "  "
      ],
      "text/plain": [
       "        id                                        description  quantity  \\\n",
       "0  p233245  LC652 - Lakeshore Double-Space Mobile Drying Rack         1   \n",
       "1  p069063        Bouncy Bands for Desks (Blue support pipes)         3   \n",
       "\n",
       "    price  \n",
       "0  149.00  \n",
       "1   14.95  "
      ]
     },
     "execution_count": 64,
     "metadata": {},
     "output_type": "execute_result"
    }
   ],
   "source": [
    "resource.head(2)"
   ]
  },
  {
   "cell_type": "code",
   "execution_count": 65,
   "id": "2ae0c089",
   "metadata": {
    "colab": {
     "base_uri": "https://localhost:8080/",
     "height": 175
    },
    "id": "88c6a8c9",
    "outputId": "41a29c7c-0811-47e2-ac6b-68c0ea2ebd38"
   },
   "outputs": [
    {
     "data": {
      "text/html": [
       "\n",
       "  <div id=\"df-034354ec-5e5e-46d1-98ab-4e930f0c49a9\">\n",
       "    <div class=\"colab-df-container\">\n",
       "      <div>\n",
       "<style scoped>\n",
       "    .dataframe tbody tr th:only-of-type {\n",
       "        vertical-align: middle;\n",
       "    }\n",
       "\n",
       "    .dataframe tbody tr th {\n",
       "        vertical-align: top;\n",
       "    }\n",
       "\n",
       "    .dataframe thead th {\n",
       "        text-align: right;\n",
       "    }\n",
       "</style>\n",
       "<table border=\"1\" class=\"dataframe\">\n",
       "  <thead>\n",
       "    <tr style=\"text-align: right;\">\n",
       "      <th></th>\n",
       "      <th>id</th>\n",
       "      <th>price</th>\n",
       "      <th>quantity</th>\n",
       "    </tr>\n",
       "  </thead>\n",
       "  <tbody>\n",
       "    <tr>\n",
       "      <th>0</th>\n",
       "      <td>p000001</td>\n",
       "      <td>459.56</td>\n",
       "      <td>7</td>\n",
       "    </tr>\n",
       "    <tr>\n",
       "      <th>1</th>\n",
       "      <td>p000002</td>\n",
       "      <td>515.89</td>\n",
       "      <td>21</td>\n",
       "    </tr>\n",
       "    <tr>\n",
       "      <th>2</th>\n",
       "      <td>p000003</td>\n",
       "      <td>298.97</td>\n",
       "      <td>4</td>\n",
       "    </tr>\n",
       "    <tr>\n",
       "      <th>3</th>\n",
       "      <td>p000004</td>\n",
       "      <td>1113.69</td>\n",
       "      <td>98</td>\n",
       "    </tr>\n",
       "  </tbody>\n",
       "</table>\n",
       "</div>\n",
       "      <button class=\"colab-df-convert\" onclick=\"convertToInteractive('df-034354ec-5e5e-46d1-98ab-4e930f0c49a9')\"\n",
       "              title=\"Convert this dataframe to an interactive table.\"\n",
       "              style=\"display:none;\">\n",
       "        \n",
       "  <svg xmlns=\"http://www.w3.org/2000/svg\" height=\"24px\"viewBox=\"0 0 24 24\"\n",
       "       width=\"24px\">\n",
       "    <path d=\"M0 0h24v24H0V0z\" fill=\"none\"/>\n",
       "    <path d=\"M18.56 5.44l.94 2.06.94-2.06 2.06-.94-2.06-.94-.94-2.06-.94 2.06-2.06.94zm-11 1L8.5 8.5l.94-2.06 2.06-.94-2.06-.94L8.5 2.5l-.94 2.06-2.06.94zm10 10l.94 2.06.94-2.06 2.06-.94-2.06-.94-.94-2.06-.94 2.06-2.06.94z\"/><path d=\"M17.41 7.96l-1.37-1.37c-.4-.4-.92-.59-1.43-.59-.52 0-1.04.2-1.43.59L10.3 9.45l-7.72 7.72c-.78.78-.78 2.05 0 2.83L4 21.41c.39.39.9.59 1.41.59.51 0 1.02-.2 1.41-.59l7.78-7.78 2.81-2.81c.8-.78.8-2.07 0-2.86zM5.41 20L4 18.59l7.72-7.72 1.47 1.35L5.41 20z\"/>\n",
       "  </svg>\n",
       "      </button>\n",
       "      \n",
       "  <style>\n",
       "    .colab-df-container {\n",
       "      display:flex;\n",
       "      flex-wrap:wrap;\n",
       "      gap: 12px;\n",
       "    }\n",
       "\n",
       "    .colab-df-convert {\n",
       "      background-color: #E8F0FE;\n",
       "      border: none;\n",
       "      border-radius: 50%;\n",
       "      cursor: pointer;\n",
       "      display: none;\n",
       "      fill: #1967D2;\n",
       "      height: 32px;\n",
       "      padding: 0 0 0 0;\n",
       "      width: 32px;\n",
       "    }\n",
       "\n",
       "    .colab-df-convert:hover {\n",
       "      background-color: #E2EBFA;\n",
       "      box-shadow: 0px 1px 2px rgba(60, 64, 67, 0.3), 0px 1px 3px 1px rgba(60, 64, 67, 0.15);\n",
       "      fill: #174EA6;\n",
       "    }\n",
       "\n",
       "    [theme=dark] .colab-df-convert {\n",
       "      background-color: #3B4455;\n",
       "      fill: #D2E3FC;\n",
       "    }\n",
       "\n",
       "    [theme=dark] .colab-df-convert:hover {\n",
       "      background-color: #434B5C;\n",
       "      box-shadow: 0px 1px 3px 1px rgba(0, 0, 0, 0.15);\n",
       "      filter: drop-shadow(0px 1px 2px rgba(0, 0, 0, 0.3));\n",
       "      fill: #FFFFFF;\n",
       "    }\n",
       "  </style>\n",
       "\n",
       "      <script>\n",
       "        const buttonEl =\n",
       "          document.querySelector('#df-034354ec-5e5e-46d1-98ab-4e930f0c49a9 button.colab-df-convert');\n",
       "        buttonEl.style.display =\n",
       "          google.colab.kernel.accessAllowed ? 'block' : 'none';\n",
       "\n",
       "        async function convertToInteractive(key) {\n",
       "          const element = document.querySelector('#df-034354ec-5e5e-46d1-98ab-4e930f0c49a9');\n",
       "          const dataTable =\n",
       "            await google.colab.kernel.invokeFunction('convertToInteractive',\n",
       "                                                     [key], {});\n",
       "          if (!dataTable) return;\n",
       "\n",
       "          const docLinkHtml = 'Like what you see? Visit the ' +\n",
       "            '<a target=\"_blank\" href=https://colab.research.google.com/notebooks/data_table.ipynb>data table notebook</a>'\n",
       "            + ' to learn more about interactive tables.';\n",
       "          element.innerHTML = '';\n",
       "          dataTable['output_type'] = 'display_data';\n",
       "          await google.colab.output.renderOutput(dataTable, element);\n",
       "          const docLink = document.createElement('div');\n",
       "          docLink.innerHTML = docLinkHtml;\n",
       "          element.appendChild(docLink);\n",
       "        }\n",
       "      </script>\n",
       "    </div>\n",
       "  </div>\n",
       "  "
      ],
      "text/plain": [
       "        id    price  quantity\n",
       "0  p000001   459.56         7\n",
       "1  p000002   515.89        21\n",
       "2  p000003   298.97         4\n",
       "3  p000004  1113.69        98"
      ]
     },
     "execution_count": 65,
     "metadata": {},
     "output_type": "execute_result"
    }
   ],
   "source": [
    "# Grouping by (project id) and summing up the (price) & (quantity) for a given (id):\n",
    "# Because for a given project there could be multiple resources hence, we are adding the prices & quantity required for each project\n",
    "\n",
    "resource_data = resource.groupby('id').agg({'price':'sum', 'quantity':'sum'}).reset_index()\n",
    "resource_data.head(4)"
   ]
  },
  {
   "cell_type": "code",
   "execution_count": 66,
   "id": "c58979e8",
   "metadata": {
    "colab": {
     "base_uri": "https://localhost:8080/",
     "height": 482
    },
    "id": "12c62bcd",
    "outputId": "35f0ce7b-aa14-4f0d-af9f-b02782680f5d"
   },
   "outputs": [
    {
     "name": "stdout",
     "output_type": "stream",
     "text": [
      "(109248, 14)\n"
     ]
    },
    {
     "data": {
      "text/html": [
       "\n",
       "  <div id=\"df-48a46e46-9fd0-443b-8e16-e88f031481e2\">\n",
       "    <div class=\"colab-df-container\">\n",
       "      <div>\n",
       "<style scoped>\n",
       "    .dataframe tbody tr th:only-of-type {\n",
       "        vertical-align: middle;\n",
       "    }\n",
       "\n",
       "    .dataframe tbody tr th {\n",
       "        vertical-align: top;\n",
       "    }\n",
       "\n",
       "    .dataframe thead th {\n",
       "        text-align: right;\n",
       "    }\n",
       "</style>\n",
       "<table border=\"1\" class=\"dataframe\">\n",
       "  <thead>\n",
       "    <tr style=\"text-align: right;\">\n",
       "      <th></th>\n",
       "      <th>id</th>\n",
       "      <th>teacher_prefix</th>\n",
       "      <th>school_state</th>\n",
       "      <th>project_grade_category</th>\n",
       "      <th>project_subject_categories</th>\n",
       "      <th>project_subject_subcategories</th>\n",
       "      <th>project_title</th>\n",
       "      <th>project_essay_1</th>\n",
       "      <th>project_essay_2</th>\n",
       "      <th>project_resource_summary</th>\n",
       "      <th>teacher_number_of_previously_posted_projects</th>\n",
       "      <th>project_is_approved</th>\n",
       "      <th>price</th>\n",
       "      <th>quantity</th>\n",
       "    </tr>\n",
       "  </thead>\n",
       "  <tbody>\n",
       "    <tr>\n",
       "      <th>0</th>\n",
       "      <td>p253737</td>\n",
       "      <td>Mrs.</td>\n",
       "      <td>IN</td>\n",
       "      <td>Grades PreK-2</td>\n",
       "      <td>Literacy &amp; Language</td>\n",
       "      <td>ESL, Literacy</td>\n",
       "      <td>Educational Support for English Learners at Home</td>\n",
       "      <td>My students are English learners that are work...</td>\n",
       "      <td>\\\"The limits of your language are the limits o...</td>\n",
       "      <td>My students need opportunities to practice beg...</td>\n",
       "      <td>0</td>\n",
       "      <td>0</td>\n",
       "      <td>154.60</td>\n",
       "      <td>23</td>\n",
       "    </tr>\n",
       "    <tr>\n",
       "      <th>1</th>\n",
       "      <td>p258326</td>\n",
       "      <td>Mr.</td>\n",
       "      <td>FL</td>\n",
       "      <td>Grades 6-8</td>\n",
       "      <td>History &amp; Civics, Health &amp; Sports</td>\n",
       "      <td>Civics &amp; Government, Team Sports</td>\n",
       "      <td>Wanted: Projector for Hungry Learners</td>\n",
       "      <td>Our students arrive to our school eager to lea...</td>\n",
       "      <td>The projector we need for our school is very c...</td>\n",
       "      <td>My students need a projector to help with view...</td>\n",
       "      <td>7</td>\n",
       "      <td>1</td>\n",
       "      <td>299.00</td>\n",
       "      <td>1</td>\n",
       "    </tr>\n",
       "    <tr>\n",
       "      <th>2</th>\n",
       "      <td>p182444</td>\n",
       "      <td>Ms.</td>\n",
       "      <td>AZ</td>\n",
       "      <td>Grades 6-8</td>\n",
       "      <td>Health &amp; Sports</td>\n",
       "      <td>Health &amp; Wellness, Team Sports</td>\n",
       "      <td>Soccer Equipment for AWESOME Middle School Stu...</td>\n",
       "      <td>\\r\\n\\\"True champions aren't always the ones th...</td>\n",
       "      <td>The students on the campus come to school know...</td>\n",
       "      <td>My students need shine guards, athletic socks,...</td>\n",
       "      <td>1</td>\n",
       "      <td>0</td>\n",
       "      <td>516.85</td>\n",
       "      <td>22</td>\n",
       "    </tr>\n",
       "    <tr>\n",
       "      <th>3</th>\n",
       "      <td>p246581</td>\n",
       "      <td>Mrs.</td>\n",
       "      <td>KY</td>\n",
       "      <td>Grades PreK-2</td>\n",
       "      <td>Literacy &amp; Language, Math &amp; Science</td>\n",
       "      <td>Literacy, Mathematics</td>\n",
       "      <td>Techie Kindergarteners</td>\n",
       "      <td>I work at a unique school filled with both ESL...</td>\n",
       "      <td>My students live in high poverty conditions wi...</td>\n",
       "      <td>My students need to engage in Reading and Math...</td>\n",
       "      <td>4</td>\n",
       "      <td>1</td>\n",
       "      <td>232.90</td>\n",
       "      <td>4</td>\n",
       "    </tr>\n",
       "  </tbody>\n",
       "</table>\n",
       "</div>\n",
       "      <button class=\"colab-df-convert\" onclick=\"convertToInteractive('df-48a46e46-9fd0-443b-8e16-e88f031481e2')\"\n",
       "              title=\"Convert this dataframe to an interactive table.\"\n",
       "              style=\"display:none;\">\n",
       "        \n",
       "  <svg xmlns=\"http://www.w3.org/2000/svg\" height=\"24px\"viewBox=\"0 0 24 24\"\n",
       "       width=\"24px\">\n",
       "    <path d=\"M0 0h24v24H0V0z\" fill=\"none\"/>\n",
       "    <path d=\"M18.56 5.44l.94 2.06.94-2.06 2.06-.94-2.06-.94-.94-2.06-.94 2.06-2.06.94zm-11 1L8.5 8.5l.94-2.06 2.06-.94-2.06-.94L8.5 2.5l-.94 2.06-2.06.94zm10 10l.94 2.06.94-2.06 2.06-.94-2.06-.94-.94-2.06-.94 2.06-2.06.94z\"/><path d=\"M17.41 7.96l-1.37-1.37c-.4-.4-.92-.59-1.43-.59-.52 0-1.04.2-1.43.59L10.3 9.45l-7.72 7.72c-.78.78-.78 2.05 0 2.83L4 21.41c.39.39.9.59 1.41.59.51 0 1.02-.2 1.41-.59l7.78-7.78 2.81-2.81c.8-.78.8-2.07 0-2.86zM5.41 20L4 18.59l7.72-7.72 1.47 1.35L5.41 20z\"/>\n",
       "  </svg>\n",
       "      </button>\n",
       "      \n",
       "  <style>\n",
       "    .colab-df-container {\n",
       "      display:flex;\n",
       "      flex-wrap:wrap;\n",
       "      gap: 12px;\n",
       "    }\n",
       "\n",
       "    .colab-df-convert {\n",
       "      background-color: #E8F0FE;\n",
       "      border: none;\n",
       "      border-radius: 50%;\n",
       "      cursor: pointer;\n",
       "      display: none;\n",
       "      fill: #1967D2;\n",
       "      height: 32px;\n",
       "      padding: 0 0 0 0;\n",
       "      width: 32px;\n",
       "    }\n",
       "\n",
       "    .colab-df-convert:hover {\n",
       "      background-color: #E2EBFA;\n",
       "      box-shadow: 0px 1px 2px rgba(60, 64, 67, 0.3), 0px 1px 3px 1px rgba(60, 64, 67, 0.15);\n",
       "      fill: #174EA6;\n",
       "    }\n",
       "\n",
       "    [theme=dark] .colab-df-convert {\n",
       "      background-color: #3B4455;\n",
       "      fill: #D2E3FC;\n",
       "    }\n",
       "\n",
       "    [theme=dark] .colab-df-convert:hover {\n",
       "      background-color: #434B5C;\n",
       "      box-shadow: 0px 1px 3px 1px rgba(0, 0, 0, 0.15);\n",
       "      filter: drop-shadow(0px 1px 2px rgba(0, 0, 0, 0.3));\n",
       "      fill: #FFFFFF;\n",
       "    }\n",
       "  </style>\n",
       "\n",
       "      <script>\n",
       "        const buttonEl =\n",
       "          document.querySelector('#df-48a46e46-9fd0-443b-8e16-e88f031481e2 button.colab-df-convert');\n",
       "        buttonEl.style.display =\n",
       "          google.colab.kernel.accessAllowed ? 'block' : 'none';\n",
       "\n",
       "        async function convertToInteractive(key) {\n",
       "          const element = document.querySelector('#df-48a46e46-9fd0-443b-8e16-e88f031481e2');\n",
       "          const dataTable =\n",
       "            await google.colab.kernel.invokeFunction('convertToInteractive',\n",
       "                                                     [key], {});\n",
       "          if (!dataTable) return;\n",
       "\n",
       "          const docLinkHtml = 'Like what you see? Visit the ' +\n",
       "            '<a target=\"_blank\" href=https://colab.research.google.com/notebooks/data_table.ipynb>data table notebook</a>'\n",
       "            + ' to learn more about interactive tables.';\n",
       "          element.innerHTML = '';\n",
       "          dataTable['output_type'] = 'display_data';\n",
       "          await google.colab.output.renderOutput(dataTable, element);\n",
       "          const docLink = document.createElement('div');\n",
       "          docLink.innerHTML = docLinkHtml;\n",
       "          element.appendChild(docLink);\n",
       "        }\n",
       "      </script>\n",
       "    </div>\n",
       "  </div>\n",
       "  "
      ],
      "text/plain": [
       "        id teacher_prefix school_state project_grade_category  \\\n",
       "0  p253737           Mrs.           IN          Grades PreK-2   \n",
       "1  p258326            Mr.           FL             Grades 6-8   \n",
       "2  p182444            Ms.           AZ             Grades 6-8   \n",
       "3  p246581           Mrs.           KY          Grades PreK-2   \n",
       "\n",
       "            project_subject_categories     project_subject_subcategories  \\\n",
       "0                  Literacy & Language                     ESL, Literacy   \n",
       "1    History & Civics, Health & Sports  Civics & Government, Team Sports   \n",
       "2                      Health & Sports    Health & Wellness, Team Sports   \n",
       "3  Literacy & Language, Math & Science             Literacy, Mathematics   \n",
       "\n",
       "                                       project_title  \\\n",
       "0   Educational Support for English Learners at Home   \n",
       "1              Wanted: Projector for Hungry Learners   \n",
       "2  Soccer Equipment for AWESOME Middle School Stu...   \n",
       "3                             Techie Kindergarteners   \n",
       "\n",
       "                                     project_essay_1  \\\n",
       "0  My students are English learners that are work...   \n",
       "1  Our students arrive to our school eager to lea...   \n",
       "2  \\r\\n\\\"True champions aren't always the ones th...   \n",
       "3  I work at a unique school filled with both ESL...   \n",
       "\n",
       "                                     project_essay_2  \\\n",
       "0  \\\"The limits of your language are the limits o...   \n",
       "1  The projector we need for our school is very c...   \n",
       "2  The students on the campus come to school know...   \n",
       "3  My students live in high poverty conditions wi...   \n",
       "\n",
       "                            project_resource_summary  \\\n",
       "0  My students need opportunities to practice beg...   \n",
       "1  My students need a projector to help with view...   \n",
       "2  My students need shine guards, athletic socks,...   \n",
       "3  My students need to engage in Reading and Math...   \n",
       "\n",
       "   teacher_number_of_previously_posted_projects  project_is_approved   price  \\\n",
       "0                                             0                    0  154.60   \n",
       "1                                             7                    1  299.00   \n",
       "2                                             1                    0  516.85   \n",
       "3                                             4                    1  232.90   \n",
       "\n",
       "   quantity  \n",
       "0        23  \n",
       "1         1  \n",
       "2        22  \n",
       "3         4  "
      ]
     },
     "execution_count": 66,
     "metadata": {},
     "output_type": "execute_result"
    }
   ],
   "source": [
    "# Merging the two dataframes:\n",
    "\n",
    "new_data = new.merge(resource_data,on = 'id', how = 'left')\n",
    "print(new_data.shape)\n",
    "new_data.head(4)"
   ]
  },
  {
   "cell_type": "markdown",
   "id": "9ca4e9da",
   "metadata": {
    "id": "5f7c3976"
   },
   "source": [
    "# Data Visualization:"
   ]
  },
  {
   "cell_type": "code",
   "execution_count": 67,
   "id": "de1dbda7",
   "metadata": {
    "colab": {
     "base_uri": "https://localhost:8080/",
     "height": 316
    },
    "id": "e9ffb3cb",
    "outputId": "cfa949b9-c761-432e-e228-bb868cb80858"
   },
   "outputs": [
    {
     "data": {
      "image/png": "[encoded data removed]",
      "text/plain": [
       "<Figure size 432x288 with 1 Axes>"
      ]
     },
     "metadata": {
      "needs_background": "light"
     },
     "output_type": "display_data"
    },
    {
     "name": "stdout",
     "output_type": "stream",
     "text": [
      "Percentage of approved projects:85%\n",
      "Percentage of NOT approved projects:15%\n"
     ]
    }
   ],
   "source": [
    "# Distribution of Approved and Not Approved Projects:\n",
    "\n",
    "counts = new['project_is_approved'].value_counts()\n",
    "x_axis = ['Not approved', 'Approved']\n",
    "y_axis = [counts[0],counts[1]]\n",
    "plt.bar(x_axis,y_axis,width = 0.4)\n",
    "plt.title('Distribution of approved/not approved projects')\n",
    "plt.show()\n",
    "\n",
    "print('Percentage of approved projects:{}%'.format(round((counts[1]*100)/len(new)),2))\n",
    "print('Percentage of NOT approved projects:{}%'.format(round((counts[0]*100)/len(new)),2))"
   ]
  },
  {
   "cell_type": "markdown",
   "id": "c48bbc8f",
   "metadata": {
    "id": "88af69f3"
   },
   "source": [
    "-- We see that this is the case of an imbalanced datset."
   ]
  },
  {
   "cell_type": "code",
   "execution_count": 68,
   "id": "5a2c3041",
   "metadata": {
    "colab": {
     "base_uri": "https://localhost:8080/",
     "height": 652
    },
    "id": "435881a0",
    "outputId": "4b19a162-5f2d-4ced-eb95-6e7945592f9a"
   },
   "outputs": [
    {
     "data": {
      "image/png": "[encoded data removed]",
      "text/plain": [
       "<Figure size 1440x504 with 1 Axes>"
      ]
     },
     "metadata": {
      "needs_background": "light"
     },
     "output_type": "display_data"
    },
    {
     "name": "stdout",
     "output_type": "stream",
     "text": [
      "***************************************************************************\n",
      "The top 3 states with highest approval are:\n",
      "   school_state  project_is_approved\n",
      "4            CA                13205\n",
      "34           NY                 6291\n",
      "43           TX                 6014\n",
      "***************************************************************************\n",
      "The 3 states with lowest approval:\n",
      "   school_state  project_is_approved\n",
      "28           ND                  127\n",
      "50           WY                   82\n",
      "46           VT                   64\n"
     ]
    }
   ],
   "source": [
    "# Bar plot for number of project approval's in each state:\n",
    "\n",
    "state_app = new_data.groupby('school_state').agg({'project_is_approved': 'sum'}).reset_index()  # group by\n",
    "state_app.sort_values(by=['project_is_approved'],inplace=True, ascending=False) # sorting in descending order\n",
    "\n",
    "plt.figure(figsize=(20, 7))\n",
    "x_state = list(state_app['school_state'].values) # defining x axis\n",
    "y_state = list(state_app['project_is_approved'].values) # defining y axis\n",
    "plt.bar(x_state,y_state,width = 0.7)\n",
    "plt.title('Number of projects approvals in each state')\n",
    "plt.show()\n",
    "print('*'*75)\n",
    "print('The top 3 states with highest approval are:')\n",
    "print(state_app.head(3))\n",
    "print('*'*75)\n",
    "print('The 3 states with lowest approval:')\n",
    "print(state_app.tail(3))"
   ]
  },
  {
   "cell_type": "code",
   "execution_count": 69,
   "id": "cab1a3b7",
   "metadata": {
    "colab": {
     "base_uri": "https://localhost:8080/",
     "height": 401
    },
    "id": "96d48741",
    "outputId": "6f05f5e5-bb63-4900-eafc-7bec05bdb0c5"
   },
   "outputs": [
    {
     "data": {
      "image/png": "[encoded data removed]",
      "text/plain": [
       "<Figure size 720x216 with 1 Axes>"
      ]
     },
     "metadata": {
      "needs_background": "light"
     },
     "output_type": "display_data"
    },
    {
     "name": "stdout",
     "output_type": "stream",
     "text": [
      "***************************************************************************\n",
      "The top 2 prefixes with highest approval are:\n",
      "  teacher_prefix  project_is_approved\n",
      "2           Mrs.                48997\n",
      "3            Ms.                32860\n",
      "***************************************************************************\n",
      "The 2 prefixes with lowest approval:\n",
      "  teacher_prefix  project_is_approved\n",
      "4        Teacher                 1877\n",
      "0            Dr.                    9\n"
     ]
    }
   ],
   "source": [
    "# Frequency of approvals for teacher prefixes:\n",
    "\n",
    "teacher_app = new_data.groupby('teacher_prefix').agg({'project_is_approved': 'sum'}).reset_index()\n",
    "teacher_app.sort_values(by=['project_is_approved'],inplace=True, ascending=False)\n",
    "\n",
    "plt.figure(figsize=(10, 3))\n",
    "x_teacher = list(teacher_app['teacher_prefix'].values)\n",
    "y_teacher = list(teacher_app['project_is_approved'].values)\n",
    "plt.bar(x_teacher,y_teacher,width = 0.5)\n",
    "plt.title('Number of approvals based on teacher prefix')\n",
    "plt.show()\n",
    "print('*'*75)\n",
    "print('The top 2 prefixes with highest approval are:')\n",
    "print(teacher_app.head(2))\n",
    "print('*'*75)\n",
    "print('The 2 prefixes with lowest approval:')\n",
    "print(teacher_app.tail(2))"
   ]
  },
  {
   "cell_type": "code",
   "execution_count": 70,
   "id": "4338d675",
   "metadata": {
    "colab": {
     "base_uri": "https://localhost:8080/",
     "height": 401
    },
    "id": "4643c9c2",
    "outputId": "e2b3755d-a96c-4691-aedb-5dbd4736ef78"
   },
   "outputs": [
    {
     "data": {
      "image/png": "[encoded data removed]",
      "text/plain": [
       "<Figure size 720x216 with 1 Axes>"
      ]
     },
     "metadata": {
      "needs_background": "light"
     },
     "output_type": "display_data"
    },
    {
     "name": "stdout",
     "output_type": "stream",
     "text": [
      "***************************************************************************\n",
      "The top 2 Grade Category with highest approval are:\n",
      "  project_grade_category  project_is_approved\n",
      "3          Grades PreK-2                37536\n",
      "0             Grades 3-5                31729\n",
      "***************************************************************************\n",
      "The 2 Grade Category with lowest approval:\n",
      "  project_grade_category  project_is_approved\n",
      "1             Grades 6-8                14258\n",
      "2            Grades 9-12                 9183\n"
     ]
    }
   ],
   "source": [
    "# Frequency of approvals based on project_grade_categorys:\n",
    "\n",
    "grade_app = new_data.groupby('project_grade_category').agg({'project_is_approved': 'sum'}).reset_index()\n",
    "grade_app.sort_values(by=['project_is_approved'],inplace=True, ascending=False)\n",
    "\n",
    "plt.figure(figsize=(10, 3))\n",
    "x_grade = list(grade_app['project_grade_category'].values)\n",
    "y_grade = list(grade_app['project_is_approved'].values)\n",
    "plt.bar(x_grade,y_grade,width = 0.5)\n",
    "plt.title('Project approval numbers for different grades')\n",
    "plt.show()\n",
    "print('*'*75)\n",
    "print('The top 2 Grade Category with highest approval are:')\n",
    "print(grade_app.head(2))\n",
    "print('*'*75)\n",
    "print('The 2 Grade Category with lowest approval:')\n",
    "print(grade_app.tail(2))"
   ]
  },
  {
   "cell_type": "code",
   "execution_count": 71,
   "id": "2a93cad1",
   "metadata": {
    "colab": {
     "base_uri": "https://localhost:8080/",
     "height": 707
    },
    "id": "7df027cb",
    "outputId": "27201a3f-a9a3-46e2-ad72-9cf2cbbdbe97"
   },
   "outputs": [
    {
     "data": {
      "image/png": "[encoded data removed]",
      "text/plain": [
       "<Figure size 1512x576 with 1 Axes>"
      ]
     },
     "metadata": {
      "needs_background": "light"
     },
     "output_type": "display_data"
    },
    {
     "name": "stdout",
     "output_type": "stream",
     "text": [
      "***************************************************************************\n",
      "The top 3 Subject Category with highest approval are:\n",
      "             project_subject_categories  project_is_approved\n",
      "24                  Literacy & Language                20520\n",
      "32                       Math & Science                13991\n",
      "28  Literacy & Language, Math & Science                12725\n",
      "***************************************************************************\n",
      "The 3 Subject Category with lowest approval:\n",
      "                 project_subject_categories  project_is_approved\n",
      "39    Math & Science, Warmth, Care & Hunger                    6\n",
      "45  Music & The Arts, Warmth, Care & Hunger                    1\n",
      "23  History & Civics, Warmth, Care & Hunger                    0\n"
     ]
    }
   ],
   "source": [
    "# Frequency of approvals based on project_subject_categories:\n",
    "\n",
    "subject_app = new_data.groupby('project_subject_categories').agg({'project_is_approved': 'sum'}).reset_index()\n",
    "subject_app.sort_values(by=['project_is_approved'],inplace=True, ascending=False)\n",
    "\n",
    "plt.figure(figsize=(21, 8))\n",
    "x_subject = list(subject_app['project_subject_categories'].values)\n",
    "y_subject = list(subject_app['project_is_approved'].values)\n",
    "plt.bar(x_subject,y_subject,width = 0.7)\n",
    "plt.title('Frequency of approvals based on project_subject_categories')\n",
    "plt.show()\n",
    "print('*'*75)\n",
    "print('The top 3 Subject Category with highest approval are:')\n",
    "print(subject_app.head(3))\n",
    "print('*'*75)\n",
    "print('The 3 Subject Category with lowest approval:')\n",
    "print(subject_app.tail(3))"
   ]
  },
  {
   "cell_type": "code",
   "execution_count": 111,
   "id": "26333df5",
   "metadata": {
    "colab": {
     "base_uri": "https://localhost:8080/"
    },
    "id": "823a7a6f",
    "outputId": "5bd4f7ca-8c72-45d2-92ff-baa8cb1ccb0b"
   },
   "outputs": [
    {
     "name": "stdout",
     "output_type": "stream",
     "text": [
      "25th percentile: 0.0\n",
      "50th percentile: 2.0\n",
      "75th percentile: 9.0\n",
      "90th percentile: 28.0\n",
      "95th percentile: 53.0\n",
      "99th percentile: 139.0\n",
      "100th percentile: 451.0\n"
     ]
    }
   ],
   "source": [
    "# Checking outliers for number of projects previously submitted by teacher:\n",
    "\n",
    "q1 = np.percentile(new_data['teacher_number_of_previously_posted_projects'].values,25)\n",
    "q2 = np.percentile(new_data['teacher_number_of_previously_posted_projects'].values,50)\n",
    "q3 = np.percentile(new_data['teacher_number_of_previously_posted_projects'].values,75)\n",
    "q90 = np.percentile(new_data['teacher_number_of_previously_posted_projects'].values,90)\n",
    "q95 = np.percentile(new_data['teacher_number_of_previously_posted_projects'].values,95)\n",
    "q4 = np.percentile(new_data['teacher_number_of_previously_posted_projects'].values,99)\n",
    "q5 = np.percentile(new_data['teacher_number_of_previously_posted_projects'].values,100)\n",
    "\n",
    "print('25th percentile:',q1)\n",
    "print('50th percentile:',q2)\n",
    "print('75th percentile:',q3)\n",
    "print('90th percentile:',q90)\n",
    "print('95th percentile:',q95)\n",
    "print('99th percentile:',q4)\n",
    "print('100th percentile:',q5)"
   ]
  },
  {
   "cell_type": "markdown",
   "id": "cf9d763f",
   "metadata": {
    "id": "872ab075"
   },
   "source": [
    "- Here, 99% of the values lie within 53 i.e 99% of the teachers have submitted less than or equal to 139 projetcs\n",
    "- We will be dropping the rows having value greater than (139)."
   ]
  },
  {
   "cell_type": "code",
   "execution_count": 112,
   "id": "0a6b2efe",
   "metadata": {
    "colab": {
     "base_uri": "https://localhost:8080/"
    },
    "id": "17eebf04",
    "outputId": "89813513-27fc-4ad1-d067-98b2d922b27d"
   },
   "outputs": [
    {
     "name": "stdout",
     "output_type": "stream",
     "text": [
      "25th percentile: 4.0\n",
      "50th percentile: 9.0\n",
      "75th percentile: 21.0\n",
      "90th percentile: 39.0\n",
      "95th percentile: 58.0\n",
      "99th percentile: 120.0\n",
      "100th percentile: 930.0\n"
     ]
    }
   ],
   "source": [
    "# Checking outliers for quantiy required for completion of project:\n",
    "\n",
    "q1 = np.percentile(new_data['quantity'].values,25)\n",
    "q2 = np.percentile(new_data['quantity'].values,50)\n",
    "q3 = np.percentile(new_data['quantity'].values,75)\n",
    "q90 = np.percentile(new_data['quantity'].values,90)\n",
    "q95 = np.percentile(new_data['quantity'].values,95)\n",
    "q99 = np.percentile(new_data['quantity'].values,99)\n",
    "q4 = np.percentile(new_data['quantity'].values,100)\n",
    "\n",
    "print('25th percentile:',q1)\n",
    "print('50th percentile:',q2)\n",
    "print('75th percentile:',q3)\n",
    "print('90th percentile:',q90)\n",
    "print('95th percentile:',q95)\n",
    "print('99th percentile:',q99)\n",
    "print('100th percentile:',q4)"
   ]
  },
  {
   "cell_type": "markdown",
   "id": "bb8dd9db",
   "metadata": {
    "id": "229db382"
   },
   "source": [
    "- Here we will be dropping all values greater than (120)."
   ]
  },
  {
   "cell_type": "code",
   "execution_count": 113,
   "id": "f7909f08",
   "metadata": {
    "colab": {
     "base_uri": "https://localhost:8080/"
    },
    "id": "f3d354c5",
    "outputId": "cbc3d3d7-2484-41dc-f9b8-a548d6fdf00b"
   },
   "outputs": [
    {
     "name": "stdout",
     "output_type": "stream",
     "text": [
      "25th percentile: 104.31\n",
      "50th percentile: 206.22\n",
      "75th percentile: 379.0\n",
      "90th percentile: 619.4530000000001\n",
      "95th percentile: 839.9865\n",
      "99th percentile: 1583.449999999999\n",
      "100th percentile: 9999.0\n"
     ]
    }
   ],
   "source": [
    "# Checking outliers for price of resources:\n",
    "\n",
    "q1 = np.percentile(new_data['price'].values,25)\n",
    "q2 = np.percentile(new_data['price'].values,50)\n",
    "q3 = np.percentile(new_data['price'].values,75)\n",
    "q90 = np.percentile(new_data['price'].values,90)\n",
    "q95 = np.percentile(new_data['price'].values,95)\n",
    "q99 = np.percentile(new_data['price'].values,99)\n",
    "q4 = np.percentile(new_data['price'].values,100)\n",
    "\n",
    "print('25th percentile:',q1)\n",
    "print('50th percentile:',q2)\n",
    "print('75th percentile:',q3)\n",
    "print('90th percentile:',q90)\n",
    "print('95th percentile:',q95)\n",
    "print('99th percentile:',q99)\n",
    "print('100th percentile:',q4)"
   ]
  },
  {
   "cell_type": "code",
   "execution_count": 115,
   "id": "974dc657",
   "metadata": {
    "colab": {
     "base_uri": "https://localhost:8080/"
    },
    "id": "UeJjpcDdJyQ4",
    "outputId": "85ba971d-49bd-4b46-e0cf-d945e0d6cf73"
   },
   "outputs": [
    {
     "name": "stdout",
     "output_type": "stream",
     "text": [
      "99.1 percentile : 1626.1420200000005\n",
      "99.2 percentile : 1690.994320000001\n",
      "99.3 percentile : 1763.4215399999885\n",
      "99.4 percentile : 1827.8057800000188\n",
      "99.5 percentile : 1915.99\n",
      "99.6 percentile : 1999.99\n",
      "99.7 percentile : 2269.7053900000506\n",
      "99.8 percentile : 2895.3575599999926\n",
      "99.9 percentile : 3999.0\n",
      "100.0 percentile : 9999.0\n"
     ]
    }
   ],
   "source": [
    "# We want to see the 99th percentile values closely.\n",
    "for i in range(10,110,10):\n",
    "    print(99+(i/100),'percentile :',np.percentile(new_data['price'].values,99+(i/100)))\n"
   ]
  },
  {
   "cell_type": "markdown",
   "id": "0ef383df",
   "metadata": {
    "id": "VxYxCHx5K5t3"
   },
   "source": [
    "- As we can see, only 1% of the data has price greater than (1584). So, we will be considering this value as the threshold to drop the rows."
   ]
  },
  {
   "cell_type": "code",
   "execution_count": 75,
   "id": "d72c3fc8",
   "metadata": {
    "colab": {
     "base_uri": "https://localhost:8080/"
    },
    "id": "12761a3d",
    "outputId": "bdbe5694-aae1-4452-b8a6-d02d5d59b471"
   },
   "outputs": [
    {
     "name": "stderr",
     "output_type": "stream",
     "text": [
      "[nltk_data] Downloading package stopwords to /root/nltk_data...\n",
      "[nltk_data]   Package stopwords is already up-to-date!\n"
     ]
    }
   ],
   "source": [
    "# Extracting 2 features: (Length of title & number of stopwords in the title)\n",
    "\n",
    "nltk.download('stopwords')\n",
    "stop_words = set(stopwords.words(\"english\"))\n",
    "\n",
    "def len_words(texts):\n",
    "    '''\n",
    "    This function returns the length of the sentence\n",
    "    \n",
    "    '''\n",
    "    sentence = texts.lower().strip()\n",
    "    sentence = sentence.split()\n",
    "    final = len(sentence)\n",
    "    return final\n",
    "\n",
    "def remove_stopwords(texts):\n",
    "    '''\n",
    "    This function returns the number of stopwords in a sentence\n",
    "    \n",
    "    '''\n",
    "    sentence = texts.lower().strip()\n",
    "    sentence = sentence.split()\n",
    "    final = [word for word in sentence if word in set(stop_words)]\n",
    "    final1 = len(final)\n",
    "    \n",
    "    return final1\n",
    "\n",
    "n1= new_data['project_title'].values\n",
    "\n",
    "sent_len = [] # this contains length of the sentences.\n",
    "for z in range(len(n1)):\n",
    "    res = len_words(str(n1[z]))\n",
    "    sent_len.append(res)\n",
    "\n",
    "stopword_len = [] # this contains number of stopwords from a sentence.\n",
    "for z in range(len(n1)):\n",
    "    res2 = remove_stopwords(str(n1[z]))\n",
    "    stopword_len.append(res2)  "
   ]
  },
  {
   "cell_type": "code",
   "execution_count": 76,
   "id": "d8be7ec2",
   "metadata": {
    "colab": {
     "base_uri": "https://localhost:8080/",
     "height": 298
    },
    "id": "75b4cade",
    "outputId": "d50a2f7a-d922-47e0-a704-ab29b5e2a086"
   },
   "outputs": [
    {
     "data": {
      "text/html": [
       "\n",
       "  <div id=\"df-9349b7d2-13b0-4c80-a53f-8004f870c7e8\">\n",
       "    <div class=\"colab-df-container\">\n",
       "      <div>\n",
       "<style scoped>\n",
       "    .dataframe tbody tr th:only-of-type {\n",
       "        vertical-align: middle;\n",
       "    }\n",
       "\n",
       "    .dataframe tbody tr th {\n",
       "        vertical-align: top;\n",
       "    }\n",
       "\n",
       "    .dataframe thead th {\n",
       "        text-align: right;\n",
       "    }\n",
       "</style>\n",
       "<table border=\"1\" class=\"dataframe\">\n",
       "  <thead>\n",
       "    <tr style=\"text-align: right;\">\n",
       "      <th></th>\n",
       "      <th>id</th>\n",
       "      <th>teacher_prefix</th>\n",
       "      <th>school_state</th>\n",
       "      <th>project_grade_category</th>\n",
       "      <th>project_subject_categories</th>\n",
       "      <th>project_subject_subcategories</th>\n",
       "      <th>project_title</th>\n",
       "      <th>project_essay_1</th>\n",
       "      <th>project_essay_2</th>\n",
       "      <th>project_resource_summary</th>\n",
       "      <th>teacher_number_of_previously_posted_projects</th>\n",
       "      <th>project_is_approved</th>\n",
       "      <th>price</th>\n",
       "      <th>quantity</th>\n",
       "      <th>len_title</th>\n",
       "      <th>len_stopword</th>\n",
       "    </tr>\n",
       "  </thead>\n",
       "  <tbody>\n",
       "    <tr>\n",
       "      <th>0</th>\n",
       "      <td>p253737</td>\n",
       "      <td>Mrs.</td>\n",
       "      <td>IN</td>\n",
       "      <td>Grades PreK-2</td>\n",
       "      <td>Literacy &amp; Language</td>\n",
       "      <td>ESL, Literacy</td>\n",
       "      <td>Educational Support for English Learners at Home</td>\n",
       "      <td>My students are English learners that are work...</td>\n",
       "      <td>\\\"The limits of your language are the limits o...</td>\n",
       "      <td>My students need opportunities to practice beg...</td>\n",
       "      <td>0</td>\n",
       "      <td>0</td>\n",
       "      <td>154.6</td>\n",
       "      <td>23</td>\n",
       "      <td>7</td>\n",
       "      <td>2</td>\n",
       "    </tr>\n",
       "    <tr>\n",
       "      <th>1</th>\n",
       "      <td>p258326</td>\n",
       "      <td>Mr.</td>\n",
       "      <td>FL</td>\n",
       "      <td>Grades 6-8</td>\n",
       "      <td>History &amp; Civics, Health &amp; Sports</td>\n",
       "      <td>Civics &amp; Government, Team Sports</td>\n",
       "      <td>Wanted: Projector for Hungry Learners</td>\n",
       "      <td>Our students arrive to our school eager to lea...</td>\n",
       "      <td>The projector we need for our school is very c...</td>\n",
       "      <td>My students need a projector to help with view...</td>\n",
       "      <td>7</td>\n",
       "      <td>1</td>\n",
       "      <td>299.0</td>\n",
       "      <td>1</td>\n",
       "      <td>5</td>\n",
       "      <td>1</td>\n",
       "    </tr>\n",
       "  </tbody>\n",
       "</table>\n",
       "</div>\n",
       "      <button class=\"colab-df-convert\" onclick=\"convertToInteractive('df-9349b7d2-13b0-4c80-a53f-8004f870c7e8')\"\n",
       "              title=\"Convert this dataframe to an interactive table.\"\n",
       "              style=\"display:none;\">\n",
       "        \n",
       "  <svg xmlns=\"http://www.w3.org/2000/svg\" height=\"24px\"viewBox=\"0 0 24 24\"\n",
       "       width=\"24px\">\n",
       "    <path d=\"M0 0h24v24H0V0z\" fill=\"none\"/>\n",
       "    <path d=\"M18.56 5.44l.94 2.06.94-2.06 2.06-.94-2.06-.94-.94-2.06-.94 2.06-2.06.94zm-11 1L8.5 8.5l.94-2.06 2.06-.94-2.06-.94L8.5 2.5l-.94 2.06-2.06.94zm10 10l.94 2.06.94-2.06 2.06-.94-2.06-.94-.94-2.06-.94 2.06-2.06.94z\"/><path d=\"M17.41 7.96l-1.37-1.37c-.4-.4-.92-.59-1.43-.59-.52 0-1.04.2-1.43.59L10.3 9.45l-7.72 7.72c-.78.78-.78 2.05 0 2.83L4 21.41c.39.39.9.59 1.41.59.51 0 1.02-.2 1.41-.59l7.78-7.78 2.81-2.81c.8-.78.8-2.07 0-2.86zM5.41 20L4 18.59l7.72-7.72 1.47 1.35L5.41 20z\"/>\n",
       "  </svg>\n",
       "      </button>\n",
       "      \n",
       "  <style>\n",
       "    .colab-df-container {\n",
       "      display:flex;\n",
       "      flex-wrap:wrap;\n",
       "      gap: 12px;\n",
       "    }\n",
       "\n",
       "    .colab-df-convert {\n",
       "      background-color: #E8F0FE;\n",
       "      border: none;\n",
       "      border-radius: 50%;\n",
       "      cursor: pointer;\n",
       "      display: none;\n",
       "      fill: #1967D2;\n",
       "      height: 32px;\n",
       "      padding: 0 0 0 0;\n",
       "      width: 32px;\n",
       "    }\n",
       "\n",
       "    .colab-df-convert:hover {\n",
       "      background-color: #E2EBFA;\n",
       "      box-shadow: 0px 1px 2px rgba(60, 64, 67, 0.3), 0px 1px 3px 1px rgba(60, 64, 67, 0.15);\n",
       "      fill: #174EA6;\n",
       "    }\n",
       "\n",
       "    [theme=dark] .colab-df-convert {\n",
       "      background-color: #3B4455;\n",
       "      fill: #D2E3FC;\n",
       "    }\n",
       "\n",
       "    [theme=dark] .colab-df-convert:hover {\n",
       "      background-color: #434B5C;\n",
       "      box-shadow: 0px 1px 3px 1px rgba(0, 0, 0, 0.15);\n",
       "      filter: drop-shadow(0px 1px 2px rgba(0, 0, 0, 0.3));\n",
       "      fill: #FFFFFF;\n",
       "    }\n",
       "  </style>\n",
       "\n",
       "      <script>\n",
       "        const buttonEl =\n",
       "          document.querySelector('#df-9349b7d2-13b0-4c80-a53f-8004f870c7e8 button.colab-df-convert');\n",
       "        buttonEl.style.display =\n",
       "          google.colab.kernel.accessAllowed ? 'block' : 'none';\n",
       "\n",
       "        async function convertToInteractive(key) {\n",
       "          const element = document.querySelector('#df-9349b7d2-13b0-4c80-a53f-8004f870c7e8');\n",
       "          const dataTable =\n",
       "            await google.colab.kernel.invokeFunction('convertToInteractive',\n",
       "                                                     [key], {});\n",
       "          if (!dataTable) return;\n",
       "\n",
       "          const docLinkHtml = 'Like what you see? Visit the ' +\n",
       "            '<a target=\"_blank\" href=https://colab.research.google.com/notebooks/data_table.ipynb>data table notebook</a>'\n",
       "            + ' to learn more about interactive tables.';\n",
       "          element.innerHTML = '';\n",
       "          dataTable['output_type'] = 'display_data';\n",
       "          await google.colab.output.renderOutput(dataTable, element);\n",
       "          const docLink = document.createElement('div');\n",
       "          docLink.innerHTML = docLinkHtml;\n",
       "          element.appendChild(docLink);\n",
       "        }\n",
       "      </script>\n",
       "    </div>\n",
       "  </div>\n",
       "  "
      ],
      "text/plain": [
       "        id teacher_prefix school_state project_grade_category  \\\n",
       "0  p253737           Mrs.           IN          Grades PreK-2   \n",
       "1  p258326            Mr.           FL             Grades 6-8   \n",
       "\n",
       "          project_subject_categories     project_subject_subcategories  \\\n",
       "0                Literacy & Language                     ESL, Literacy   \n",
       "1  History & Civics, Health & Sports  Civics & Government, Team Sports   \n",
       "\n",
       "                                      project_title  \\\n",
       "0  Educational Support for English Learners at Home   \n",
       "1             Wanted: Projector for Hungry Learners   \n",
       "\n",
       "                                     project_essay_1  \\\n",
       "0  My students are English learners that are work...   \n",
       "1  Our students arrive to our school eager to lea...   \n",
       "\n",
       "                                     project_essay_2  \\\n",
       "0  \\\"The limits of your language are the limits o...   \n",
       "1  The projector we need for our school is very c...   \n",
       "\n",
       "                            project_resource_summary  \\\n",
       "0  My students need opportunities to practice beg...   \n",
       "1  My students need a projector to help with view...   \n",
       "\n",
       "   teacher_number_of_previously_posted_projects  project_is_approved  price  \\\n",
       "0                                             0                    0  154.6   \n",
       "1                                             7                    1  299.0   \n",
       "\n",
       "   quantity  len_title  len_stopword  \n",
       "0        23          7             2  \n",
       "1         1          5             1  "
      ]
     },
     "execution_count": 76,
     "metadata": {},
     "output_type": "execute_result"
    }
   ],
   "source": [
    "# Adding the 2 new features to the dataframe.\n",
    "\n",
    "new_data['len_title'] = sent_len\n",
    "new_data['len_stopword'] = stopword_len\n",
    "new_data.head(2)"
   ]
  },
  {
   "cell_type": "code",
   "execution_count": 77,
   "id": "815c8684",
   "metadata": {
    "colab": {
     "base_uri": "https://localhost:8080/",
     "height": 296
    },
    "id": "74d4b96f",
    "outputId": "c272a568-2463-4d9f-b022-9124d6e9ec09"
   },
   "outputs": [
    {
     "data": {
      "image/png": "[encoded data removed]",
      "text/plain": [
       "<Figure size 432x288 with 1 Axes>"
      ]
     },
     "metadata": {
      "needs_background": "light"
     },
     "output_type": "display_data"
    }
   ],
   "source": [
    "# KDE plot for the project title length.\n",
    "\n",
    "sns.kdeplot(new_data[new_data['project_is_approved'] == 1.0]['len_title'][0:] , label = \"1\", color = 'red',shade = True)\n",
    "sns.kdeplot(new_data[new_data['project_is_approved'] == 0.0]['len_title'][0:] , label = \"0\" , color = 'blue',shade = True)\n",
    "plt.title('KDE for project title length')\n",
    "plt.show()"
   ]
  },
  {
   "cell_type": "code",
   "execution_count": 78,
   "id": "8adfdb29",
   "metadata": {
    "colab": {
     "base_uri": "https://localhost:8080/",
     "height": 296
    },
    "id": "2271d0f5",
    "outputId": "9b597e9f-3cae-4d07-cc3c-2ce458fca5d5"
   },
   "outputs": [
    {
     "data": {
      "image/png": "[encoded data removed]",
      "text/plain": [
       "<Figure size 432x288 with 1 Axes>"
      ]
     },
     "metadata": {
      "needs_background": "light"
     },
     "output_type": "display_data"
    }
   ],
   "source": [
    "# KDE plot for number of stopwords in project title.\n",
    "\n",
    "sns.kdeplot(new_data[new_data['project_is_approved'] == 1.0]['len_stopword'][0:] , label = \"1\", color = 'red',shade = True)\n",
    "sns.kdeplot(new_data[new_data['project_is_approved'] == 0.0]['len_stopword'][0:] , label = \"0\" , color = 'blue',shade = True)\n",
    "plt.title('KDE for number of stopwords')\n",
    "plt.show()"
   ]
  },
  {
   "cell_type": "markdown",
   "id": "980269b6",
   "metadata": {
    "id": "973ff946"
   },
   "source": [
    "-- As there is major overlapping in both cases, the above two extracted features do not help much in our classification task and hence will be dropped further."
   ]
  },
  {
   "cell_type": "markdown",
   "id": "862df791",
   "metadata": {
    "id": "7f54493e"
   },
   "source": [
    "# Data Cleaning:"
   ]
  },
  {
   "cell_type": "markdown",
   "id": "cde4cce2",
   "metadata": {
    "id": "0d9b1563"
   },
   "source": [
    "# Teacher_prefix"
   ]
  },
  {
   "cell_type": "code",
   "execution_count": 79,
   "id": "6e42f57c",
   "metadata": {
    "colab": {
     "base_uri": "https://localhost:8080/"
    },
    "id": "b7998d9d",
    "outputId": "05a4aa01-be32-4d4b-d472-0e9aafc466f2"
   },
   "outputs": [
    {
     "name": "stdout",
     "output_type": "stream",
     "text": [
      "['Mrs.', 'Mr.', 'Ms.', 'Mrs.', 'Mrs.']\n",
      "**************************************************\n",
      "['mrs', 'mr', 'ms', 'mrs', 'mrs']\n"
     ]
    }
   ],
   "source": [
    "# Checking null values and if any, filling it with the most occuring category:\n",
    "\n",
    "null_teacher = new_data['teacher_prefix'].isnull().values.any() # checking null values, if any\n",
    "if null_teacher == True:\n",
    "    new_data['teacher_prefix']=new_data['teacher_prefix'].fillna('Mrs.') # filling up the nan values\n",
    "\n",
    "# Cleaning of the prefixes:\n",
    "teacher_prefix = []\n",
    "for i in list(new_data['teacher_prefix'].values):\n",
    "    txt = i.lower() # converting to lowercase\n",
    "    txt = re.sub(\" \",'', txt) # getting rid of empty spaces\n",
    "    txt = re.sub(r'\\W','',txt) # getting rid of whatever is a non-word character\n",
    "    teacher_prefix.append(txt)\n",
    "\n",
    "print(list(new_data['teacher_prefix'].values)[:5])    \n",
    "print('*'*50)\n",
    "print(teacher_prefix[:5])"
   ]
  },
  {
   "cell_type": "markdown",
   "id": "c1685d06",
   "metadata": {
    "id": "278b3c9d"
   },
   "source": [
    "# School state:"
   ]
  },
  {
   "cell_type": "code",
   "execution_count": 80,
   "id": "094defdf",
   "metadata": {
    "colab": {
     "base_uri": "https://localhost:8080/"
    },
    "id": "47355e79",
    "outputId": "9089ea2b-1805-49b8-96a8-3789eb99c00b"
   },
   "outputs": [
    {
     "name": "stdout",
     "output_type": "stream",
     "text": [
      "['IN', 'FL', 'AZ', 'KY', 'TX']\n",
      "**************************************************\n",
      "['in', 'fl', 'az', 'ky', 'tx']\n"
     ]
    }
   ],
   "source": [
    "null_state = new_data['school_state'].isnull().values.any()\n",
    "if null_state == True:\n",
    "    new_data['school_state']=new_data['school_state'].fillna('CA')\n",
    "\n",
    "school_state = []\n",
    "for i in list(new_data['school_state'].values):\n",
    "    txt = i.lower()\n",
    "    txt = re.sub(\" \",'', txt)\n",
    "    txt = re.sub(r'\\W','',txt)\n",
    "    school_state.append(txt)\n",
    "\n",
    "print(list(new_data['school_state'].values)[:5])    \n",
    "print('*'*50)    \n",
    "print(school_state[:5])"
   ]
  },
  {
   "cell_type": "markdown",
   "id": "03123317",
   "metadata": {
    "id": "cb524029"
   },
   "source": [
    "# Project Grade Category:"
   ]
  },
  {
   "cell_type": "code",
   "execution_count": 81,
   "id": "8250b856",
   "metadata": {
    "colab": {
     "base_uri": "https://localhost:8080/"
    },
    "id": "bc1adf91",
    "outputId": "683ea247-ca30-40b3-b309-a9e342b16e8a"
   },
   "outputs": [
    {
     "name": "stdout",
     "output_type": "stream",
     "text": [
      "['Grades PreK-2', 'Grades 6-8', 'Grades 6-8', 'Grades PreK-2', 'Grades PreK-2']\n",
      "**************************************************\n",
      "['grades_prek_2', 'grades_6_8', 'grades_6_8', 'grades_prek_2', 'grades_prek_2']\n"
     ]
    }
   ],
   "source": [
    "null_grade = new_data['project_grade_category'].isnull().values.any()\n",
    "if null_grade == True:\n",
    "    new_data['project_grade_category']=new_data['project_grade_category'].fillna('Grades PreK-2')\n",
    "\n",
    "project_grade_category = []\n",
    "for i in list(new_data['project_grade_category'].values):\n",
    "    txt = i.lower()\n",
    "    txt = re.sub(\" \",'_', txt)\n",
    "    txt = re.sub(r'\\W','_',txt)\n",
    "    project_grade_category.append(txt)\n",
    "\n",
    "print(list(new_data['project_grade_category'].values)[:5])    \n",
    "print('*'*50)    \n",
    "print(project_grade_category[:5])"
   ]
  },
  {
   "cell_type": "markdown",
   "id": "3d0dc81b",
   "metadata": {
    "id": "e51fc15c"
   },
   "source": [
    "# Project Subject Categories:"
   ]
  },
  {
   "cell_type": "code",
   "execution_count": 82,
   "id": "e7e8b6c3",
   "metadata": {
    "colab": {
     "base_uri": "https://localhost:8080/"
    },
    "id": "2c2be30a",
    "outputId": "4b4064a5-1d31-4882-c05b-99a41f4c861c"
   },
   "outputs": [
    {
     "name": "stdout",
     "output_type": "stream",
     "text": [
      "['Literacy & Language', 'History & Civics, Health & Sports', 'Health & Sports', 'Literacy & Language, Math & Science', 'Math & Science']\n",
      "****************************************************************************************************\n",
      "['literacy_language', 'history_civics_health_sports', 'health_sports', 'literacy_language_math_science', 'math_science']\n"
     ]
    }
   ],
   "source": [
    "null_subject = new_data['project_subject_categories'].isnull().values.any()\n",
    "if null_subject == True:\n",
    "    new_data['project_subject_categories']=new_data['project_subject_categories'].fillna('Literacy & Language')\n",
    "\n",
    "project_subject_category = []\n",
    "for i in list(new_data['project_subject_categories'].values):\n",
    "    txt = re.sub(' ','', i)\n",
    "    txt = txt.replace('The','')\n",
    "    txt = txt.replace('&','_')\n",
    "    txt = txt.replace(',','_')\n",
    "    txt = txt.lower()\n",
    "    project_subject_category.append(txt)\n",
    "\n",
    "print(list(new_data['project_subject_categories'].values)[:5])    \n",
    "print('*'*100)    \n",
    "print(project_subject_category[:5])"
   ]
  },
  {
   "cell_type": "markdown",
   "id": "20928c98",
   "metadata": {
    "id": "4ee4a089"
   },
   "source": [
    "# Project Subject Subcategories:"
   ]
  },
  {
   "cell_type": "code",
   "execution_count": 83,
   "id": "3d02a547",
   "metadata": {
    "colab": {
     "base_uri": "https://localhost:8080/"
    },
    "id": "ec3b8c84",
    "outputId": "df2ef652-408b-4f7d-a8fa-39414306884c"
   },
   "outputs": [
    {
     "name": "stdout",
     "output_type": "stream",
     "text": [
      "['ESL, Literacy', 'Civics & Government, Team Sports', 'Health & Wellness, Team Sports', 'Literacy, Mathematics', 'Mathematics']\n",
      "****************************************************************************************************\n",
      "['esl_literacy', 'civics_government_teamsports', 'health_wellness_teamsports', 'literacy_mathematics', 'mathematics']\n"
     ]
    }
   ],
   "source": [
    "null_subsubject = new_data['project_subject_subcategories'].isnull().values.any()\n",
    "if null_subsubject == True:\n",
    "    new_data['project_subject_subcategories']=new_data['project_subject_subcategories'].fillna('Literacy')\n",
    "\n",
    "project_subject_subcategory = []\n",
    "for i in list(new_data['project_subject_subcategories'].values):\n",
    "    txt = re.sub(' ','', i)\n",
    "    txt = txt.replace('The','')\n",
    "    txt = txt.replace('&','_')\n",
    "    txt = txt.replace(',','_')\n",
    "    txt = txt.lower()\n",
    "    project_subject_subcategory.append(txt)\n",
    "\n",
    "print(list(new_data['project_subject_subcategories'].values)[:5])    \n",
    "print('*'*100)    \n",
    "print(project_subject_subcategory[:5])"
   ]
  },
  {
   "cell_type": "markdown",
   "id": "b48e15cf",
   "metadata": {
    "id": "b1745653"
   },
   "source": [
    "# Project Title:"
   ]
  },
  {
   "cell_type": "code",
   "execution_count": 84,
   "id": "37677208",
   "metadata": {
    "colab": {
     "base_uri": "https://localhost:8080/"
    },
    "id": "fd951b59",
    "outputId": "33443d71-01c5-47c1-ff8d-c01c7f96be6e"
   },
   "outputs": [
    {
     "name": "stdout",
     "output_type": "stream",
     "text": [
      "['Educational Support for English Learners at Home', 'Wanted: Projector for Hungry Learners']\n",
      "****************************************************************************************************\n",
      "['educ support english learner home', 'want projector hungri learner']\n"
     ]
    }
   ],
   "source": [
    "from nltk.stem.snowball import SnowballStemmer\n",
    "stop_words = set(stopwords.words(\"english\"))\n",
    "snow_stemmer = SnowballStemmer(language='english')\n",
    "\n",
    "stop_words.remove('not')\n",
    "stop_words.remove('between')\n",
    "stop_words.remove('up')\n",
    "stop_words.remove('down')\n",
    "stop_words.remove('in')\n",
    "stop_words.remove('out')\n",
    "stop_words.remove('before')\n",
    "stop_words.remove('after')\n",
    "stop_words.remove('few')\n",
    "stop_words.remove('more')\n",
    "stop_words.remove('most')\n",
    "stop_words.remove('no')\n",
    "stop_words.remove('nor')\n",
    "\n",
    "def clean(text):\n",
    "    '''\n",
    "    This function gets rid of all punctuation marks, special characters, stop words\n",
    "    and expands the contracted words and returns words after applying stemming\n",
    "    \n",
    "    '''\n",
    "    sent = text.lower().strip() \n",
    "    sent = re.sub('[^a-zA-Z]',' ',text) \n",
    "    sent = sent.replace(\"won't\", \"will not\").replace(\"cannot\", \"can not\").replace(\"can't\", \"can not\")\\\n",
    "                        .replace(\"n't\", \" not\").replace(\"what's\", \"what is\").replace(\"it's\", \"it is\")\\\n",
    "                           .replace(\"'ve\", \" have\").replace(\"i'm\", \"i am\").replace(\"'re\", \" are\")\\\n",
    "                           .replace(\"he's\", \"he is\").replace(\"she's\", \"she is\").replace(\"'s\", \" own\")\\\n",
    "                           .replace(\"%\", \" percent \").replace(\"₹\", \" rupee \").replace(\"$\", \" dollar \")\\\n",
    "                           .replace(\"€\", \" euro \").replace(\"'ll\", \" will\").replace(\"doesn't\", \"does not\")\n",
    "                           \n",
    "    sent = sent.split()\n",
    "    final = [snow_stemmer.stem(word) for word in sent if not word in set(stop_words)]\n",
    "    final_sent =  ' '.join(final)\n",
    "    return final_sent\n",
    "\n",
    "project_title = [] \n",
    "for z in range(len(n1)):\n",
    "    r1 = clean(str(n1[z]))\n",
    "    project_title.append(r1)\n",
    "\n",
    "print(list(n1[:2]))\n",
    "print('*'*100)\n",
    "print(project_title[:2])"
   ]
  },
  {
   "cell_type": "markdown",
   "id": "73b3944e",
   "metadata": {
    "id": "dca914e0"
   },
   "source": [
    "# Project Essay 1:"
   ]
  },
  {
   "cell_type": "code",
   "execution_count": 85,
   "id": "753c8b1b",
   "metadata": {
    "colab": {
     "base_uri": "https://localhost:8080/"
    },
    "id": "146058f1",
    "outputId": "1ab66ecc-aa60-44de-dee5-6663ee5e6718"
   },
   "outputs": [
    {
     "name": "stderr",
     "output_type": "stream",
     "text": [
      "100%|██████████| 109248/109248 [02:14<00:00, 811.32it/s]\n"
     ]
    }
   ],
   "source": [
    "n2 = new_data['project_essay_1'].values\n",
    "\n",
    "project_essay_1 = [] \n",
    "for z in tqdm(range(len(n2))):\n",
    "    r2 = clean(str(n2[z]))\n",
    "    project_essay_1.append(r2)"
   ]
  },
  {
   "cell_type": "markdown",
   "id": "13958484",
   "metadata": {
    "id": "7cbbc155"
   },
   "source": [
    "# Project Essay 2:"
   ]
  },
  {
   "cell_type": "code",
   "execution_count": 86,
   "id": "51f80ef7",
   "metadata": {
    "colab": {
     "base_uri": "https://localhost:8080/"
    },
    "id": "01367ff1",
    "outputId": "1ff4bfb9-2ff0-443b-d0d7-8f75501d5a4b"
   },
   "outputs": [
    {
     "name": "stderr",
     "output_type": "stream",
     "text": [
      "100%|██████████| 109248/109248 [03:17<00:00, 554.45it/s]\n"
     ]
    }
   ],
   "source": [
    "n3 = new_data['project_essay_2'].values\n",
    "\n",
    "project_essay_2 = [] \n",
    "for z in tqdm(range(len(n3))):\n",
    "    r3 = clean(str(n3[z]))\n",
    "    project_essay_2.append(r3)"
   ]
  },
  {
   "cell_type": "markdown",
   "id": "eeb68d0d",
   "metadata": {
    "id": "9223d4df"
   },
   "source": [
    "# Project Resource Summary:"
   ]
  },
  {
   "cell_type": "code",
   "execution_count": 87,
   "id": "f767f155",
   "metadata": {
    "colab": {
     "base_uri": "https://localhost:8080/"
    },
    "id": "8dc4d3b6",
    "outputId": "976822b5-786f-45de-d831-624548ebb330"
   },
   "outputs": [
    {
     "name": "stderr",
     "output_type": "stream",
     "text": [
      "100%|██████████| 109248/109248 [00:26<00:00, 4077.50it/s]\n"
     ]
    }
   ],
   "source": [
    "n4 = new_data['project_resource_summary'].values\n",
    "\n",
    "project_resource_summary = [] \n",
    "for z in tqdm(range(len(n4))):\n",
    "    r4 = clean(str(n4[z]))\n",
    "    project_resource_summary.append(r4)"
   ]
  },
  {
   "cell_type": "code",
   "execution_count": 88,
   "id": "a796a4e2",
   "metadata": {
    "id": "88d4dd0f"
   },
   "outputs": [],
   "source": [
    "# Adding the cleaned texts and features to the dataframe:\n",
    "\n",
    "data_ = new_data.drop(['teacher_prefix','school_state','project_grade_category','project_subject_categories','project_subject_subcategories','project_title','project_essay_1','project_essay_2','project_resource_summary'],axis = 1)\n",
    "data_['teacher_prefix'] = teacher_prefix\n",
    "data_['school_state'] = school_state\n",
    "data_['project_grade_category'] = project_grade_category\n",
    "data_['project_subject_category'] = project_subject_category\n",
    "data_['project_subject_subcategory'] = project_subject_subcategory\n",
    "data_['project_title'] = project_title\n",
    "data_['project_essay_1'] = project_essay_1\n",
    "data_['project_essay_2'] = project_essay_2\n",
    "data_['project_resource_summary'] = project_resource_summary\n"
   ]
  },
  {
   "cell_type": "code",
   "execution_count": 116,
   "id": "72a01adb",
   "metadata": {
    "id": "tZDy8ZwzLYhO"
   },
   "outputs": [],
   "source": [
    "# Eliminating the outliers for 'number of projects posted by teachers':\n",
    "\n",
    "data_.drop(data_[data_['teacher_number_of_previously_posted_projects'] > 139].index, inplace = True)"
   ]
  },
  {
   "cell_type": "code",
   "execution_count": 118,
   "id": "31a9f073",
   "metadata": {
    "id": "5lDmFQn5LYsT"
   },
   "outputs": [],
   "source": [
    "# Eliminating the outliers for 'quantity':\n",
    "\n",
    "\n",
    "data_.drop(data_[data_['quantity'] > 120].index, inplace = True)"
   ]
  },
  {
   "cell_type": "code",
   "execution_count": 123,
   "id": "a9ab560b",
   "metadata": {
    "id": "Td3aCNV-LY4s"
   },
   "outputs": [],
   "source": [
    "# Eliminating the outliers for 'price': (greater than 1584 are dropped)\n",
    "\n",
    "data_.drop(data_[data_['price'] > 1584].index, inplace = True)\n"
   ]
  },
  {
   "cell_type": "code",
   "execution_count": 127,
   "id": "599de241",
   "metadata": {
    "colab": {
     "base_uri": "https://localhost:8080/"
    },
    "id": "m3VH6g3gORCt",
    "outputId": "bc4f3fd2-73ae-4a36-b11c-e2132e1b3e08"
   },
   "outputs": [
    {
     "name": "stdout",
     "output_type": "stream",
     "text": [
      "3220 outliers have been removed from the dataset\n"
     ]
    }
   ],
   "source": [
    "print('{} outliers have been removed from the dataset'.format(new_data.shape[0] - data_.shape[0]))"
   ]
  },
  {
   "cell_type": "code",
   "execution_count": 124,
   "id": "027bf722",
   "metadata": {
    "colab": {
     "base_uri": "https://localhost:8080/",
     "height": 280
    },
    "id": "8ec83de5",
    "outputId": "ef8d82aa-cefb-40ec-f327-3cbb569fe494"
   },
   "outputs": [
    {
     "name": "stdout",
     "output_type": "stream",
     "text": [
      "(106028, 16)\n"
     ]
    },
    {
     "data": {
      "text/html": [
       "\n",
       "  <div id=\"df-59d89284-9aa1-4289-8707-68d9ee9d2eed\">\n",
       "    <div class=\"colab-df-container\">\n",
       "      <div>\n",
       "<style scoped>\n",
       "    .dataframe tbody tr th:only-of-type {\n",
       "        vertical-align: middle;\n",
       "    }\n",
       "\n",
       "    .dataframe tbody tr th {\n",
       "        vertical-align: top;\n",
       "    }\n",
       "\n",
       "    .dataframe thead th {\n",
       "        text-align: right;\n",
       "    }\n",
       "</style>\n",
       "<table border=\"1\" class=\"dataframe\">\n",
       "  <thead>\n",
       "    <tr style=\"text-align: right;\">\n",
       "      <th></th>\n",
       "      <th>id</th>\n",
       "      <th>teacher_number_of_previously_posted_projects</th>\n",
       "      <th>project_is_approved</th>\n",
       "      <th>price</th>\n",
       "      <th>quantity</th>\n",
       "      <th>len_title</th>\n",
       "      <th>len_stopword</th>\n",
       "      <th>teacher_prefix</th>\n",
       "      <th>school_state</th>\n",
       "      <th>project_grade_category</th>\n",
       "      <th>project_subject_category</th>\n",
       "      <th>project_subject_subcategory</th>\n",
       "      <th>project_title</th>\n",
       "      <th>project_essay_1</th>\n",
       "      <th>project_essay_2</th>\n",
       "      <th>project_resource_summary</th>\n",
       "    </tr>\n",
       "  </thead>\n",
       "  <tbody>\n",
       "    <tr>\n",
       "      <th>0</th>\n",
       "      <td>p253737</td>\n",
       "      <td>0</td>\n",
       "      <td>0</td>\n",
       "      <td>154.6</td>\n",
       "      <td>23</td>\n",
       "      <td>7</td>\n",
       "      <td>2</td>\n",
       "      <td>mrs</td>\n",
       "      <td>in</td>\n",
       "      <td>grades_prek_2</td>\n",
       "      <td>literacy_language</td>\n",
       "      <td>esl_literacy</td>\n",
       "      <td>educ support english learner home</td>\n",
       "      <td>my student english learner work english second...</td>\n",
       "      <td>the limit languag limit world ludwig wittgenst...</td>\n",
       "      <td>my student need opportun practic begin read sk...</td>\n",
       "    </tr>\n",
       "    <tr>\n",
       "      <th>1</th>\n",
       "      <td>p258326</td>\n",
       "      <td>7</td>\n",
       "      <td>1</td>\n",
       "      <td>299.0</td>\n",
       "      <td>1</td>\n",
       "      <td>5</td>\n",
       "      <td>1</td>\n",
       "      <td>mr</td>\n",
       "      <td>fl</td>\n",
       "      <td>grades_6_8</td>\n",
       "      <td>history_civics_health_sports</td>\n",
       "      <td>civics_government_teamsports</td>\n",
       "      <td>want projector hungri learner</td>\n",
       "      <td>our student arriv school eager learn they poli...</td>\n",
       "      <td>the projector need school crucial academ impro...</td>\n",
       "      <td>my student need projector help view educ program</td>\n",
       "    </tr>\n",
       "  </tbody>\n",
       "</table>\n",
       "</div>\n",
       "      <button class=\"colab-df-convert\" onclick=\"convertToInteractive('df-59d89284-9aa1-4289-8707-68d9ee9d2eed')\"\n",
       "              title=\"Convert this dataframe to an interactive table.\"\n",
       "              style=\"display:none;\">\n",
       "        \n",
       "  <svg xmlns=\"http://www.w3.org/2000/svg\" height=\"24px\"viewBox=\"0 0 24 24\"\n",
       "       width=\"24px\">\n",
       "    <path d=\"M0 0h24v24H0V0z\" fill=\"none\"/>\n",
       "    <path d=\"M18.56 5.44l.94 2.06.94-2.06 2.06-.94-2.06-.94-.94-2.06-.94 2.06-2.06.94zm-11 1L8.5 8.5l.94-2.06 2.06-.94-2.06-.94L8.5 2.5l-.94 2.06-2.06.94zm10 10l.94 2.06.94-2.06 2.06-.94-2.06-.94-.94-2.06-.94 2.06-2.06.94z\"/><path d=\"M17.41 7.96l-1.37-1.37c-.4-.4-.92-.59-1.43-.59-.52 0-1.04.2-1.43.59L10.3 9.45l-7.72 7.72c-.78.78-.78 2.05 0 2.83L4 21.41c.39.39.9.59 1.41.59.51 0 1.02-.2 1.41-.59l7.78-7.78 2.81-2.81c.8-.78.8-2.07 0-2.86zM5.41 20L4 18.59l7.72-7.72 1.47 1.35L5.41 20z\"/>\n",
       "  </svg>\n",
       "      </button>\n",
       "      \n",
       "  <style>\n",
       "    .colab-df-container {\n",
       "      display:flex;\n",
       "      flex-wrap:wrap;\n",
       "      gap: 12px;\n",
       "    }\n",
       "\n",
       "    .colab-df-convert {\n",
       "      background-color: #E8F0FE;\n",
       "      border: none;\n",
       "      border-radius: 50%;\n",
       "      cursor: pointer;\n",
       "      display: none;\n",
       "      fill: #1967D2;\n",
       "      height: 32px;\n",
       "      padding: 0 0 0 0;\n",
       "      width: 32px;\n",
       "    }\n",
       "\n",
       "    .colab-df-convert:hover {\n",
       "      background-color: #E2EBFA;\n",
       "      box-shadow: 0px 1px 2px rgba(60, 64, 67, 0.3), 0px 1px 3px 1px rgba(60, 64, 67, 0.15);\n",
       "      fill: #174EA6;\n",
       "    }\n",
       "\n",
       "    [theme=dark] .colab-df-convert {\n",
       "      background-color: #3B4455;\n",
       "      fill: #D2E3FC;\n",
       "    }\n",
       "\n",
       "    [theme=dark] .colab-df-convert:hover {\n",
       "      background-color: #434B5C;\n",
       "      box-shadow: 0px 1px 3px 1px rgba(0, 0, 0, 0.15);\n",
       "      filter: drop-shadow(0px 1px 2px rgba(0, 0, 0, 0.3));\n",
       "      fill: #FFFFFF;\n",
       "    }\n",
       "  </style>\n",
       "\n",
       "      <script>\n",
       "        const buttonEl =\n",
       "          document.querySelector('#df-59d89284-9aa1-4289-8707-68d9ee9d2eed button.colab-df-convert');\n",
       "        buttonEl.style.display =\n",
       "          google.colab.kernel.accessAllowed ? 'block' : 'none';\n",
       "\n",
       "        async function convertToInteractive(key) {\n",
       "          const element = document.querySelector('#df-59d89284-9aa1-4289-8707-68d9ee9d2eed');\n",
       "          const dataTable =\n",
       "            await google.colab.kernel.invokeFunction('convertToInteractive',\n",
       "                                                     [key], {});\n",
       "          if (!dataTable) return;\n",
       "\n",
       "          const docLinkHtml = 'Like what you see? Visit the ' +\n",
       "            '<a target=\"_blank\" href=https://colab.research.google.com/notebooks/data_table.ipynb>data table notebook</a>'\n",
       "            + ' to learn more about interactive tables.';\n",
       "          element.innerHTML = '';\n",
       "          dataTable['output_type'] = 'display_data';\n",
       "          await google.colab.output.renderOutput(dataTable, element);\n",
       "          const docLink = document.createElement('div');\n",
       "          docLink.innerHTML = docLinkHtml;\n",
       "          element.appendChild(docLink);\n",
       "        }\n",
       "      </script>\n",
       "    </div>\n",
       "  </div>\n",
       "  "
      ],
      "text/plain": [
       "        id  teacher_number_of_previously_posted_projects  project_is_approved  \\\n",
       "0  p253737                                             0                    0   \n",
       "1  p258326                                             7                    1   \n",
       "\n",
       "   price  quantity  len_title  len_stopword teacher_prefix school_state  \\\n",
       "0  154.6        23          7             2            mrs           in   \n",
       "1  299.0         1          5             1             mr           fl   \n",
       "\n",
       "  project_grade_category      project_subject_category  \\\n",
       "0          grades_prek_2             literacy_language   \n",
       "1             grades_6_8  history_civics_health_sports   \n",
       "\n",
       "    project_subject_subcategory                      project_title  \\\n",
       "0                  esl_literacy  educ support english learner home   \n",
       "1  civics_government_teamsports      want projector hungri learner   \n",
       "\n",
       "                                     project_essay_1  \\\n",
       "0  my student english learner work english second...   \n",
       "1  our student arriv school eager learn they poli...   \n",
       "\n",
       "                                     project_essay_2  \\\n",
       "0  the limit languag limit world ludwig wittgenst...   \n",
       "1  the projector need school crucial academ impro...   \n",
       "\n",
       "                            project_resource_summary  \n",
       "0  my student need opportun practic begin read sk...  \n",
       "1   my student need projector help view educ program  "
      ]
     },
     "execution_count": 124,
     "metadata": {},
     "output_type": "execute_result"
    }
   ],
   "source": [
    "print(data_.shape)\n",
    "data_.head(2)"
   ]
  },
  {
   "cell_type": "markdown",
   "id": "34aa8d43",
   "metadata": {
    "id": "398c9e71"
   },
   "source": [
    "# Data Preprocessing:"
   ]
  },
  {
   "cell_type": "code",
   "execution_count": 128,
   "id": "a3d84a20",
   "metadata": {
    "id": "1146d1aa"
   },
   "outputs": [],
   "source": [
    "x = data_.drop(['project_is_approved','id'], axis = 1) # independent varirables\n",
    "y = data_['project_is_approved'] # dependent variable"
   ]
  },
  {
   "cell_type": "code",
   "execution_count": 129,
   "id": "384199bc",
   "metadata": {
    "colab": {
     "base_uri": "https://localhost:8080/",
     "height": 364
    },
    "id": "5afb9fa7",
    "outputId": "f217ac01-7f85-4acd-94c8-4fdc55950ae5"
   },
   "outputs": [
    {
     "name": "stdout",
     "output_type": "stream",
     "text": [
      "(106028, 14)\n"
     ]
    },
    {
     "data": {
      "text/html": [
       "\n",
       "  <div id=\"df-05412efd-6512-4bf6-9dce-f23ebefcac70\">\n",
       "    <div class=\"colab-df-container\">\n",
       "      <div>\n",
       "<style scoped>\n",
       "    .dataframe tbody tr th:only-of-type {\n",
       "        vertical-align: middle;\n",
       "    }\n",
       "\n",
       "    .dataframe tbody tr th {\n",
       "        vertical-align: top;\n",
       "    }\n",
       "\n",
       "    .dataframe thead th {\n",
       "        text-align: right;\n",
       "    }\n",
       "</style>\n",
       "<table border=\"1\" class=\"dataframe\">\n",
       "  <thead>\n",
       "    <tr style=\"text-align: right;\">\n",
       "      <th></th>\n",
       "      <th>teacher_number_of_previously_posted_projects</th>\n",
       "      <th>price</th>\n",
       "      <th>quantity</th>\n",
       "      <th>len_title</th>\n",
       "      <th>len_stopword</th>\n",
       "      <th>teacher_prefix</th>\n",
       "      <th>school_state</th>\n",
       "      <th>project_grade_category</th>\n",
       "      <th>project_subject_category</th>\n",
       "      <th>project_subject_subcategory</th>\n",
       "      <th>project_title</th>\n",
       "      <th>project_essay_1</th>\n",
       "      <th>project_essay_2</th>\n",
       "      <th>project_resource_summary</th>\n",
       "    </tr>\n",
       "  </thead>\n",
       "  <tbody>\n",
       "    <tr>\n",
       "      <th>0</th>\n",
       "      <td>0</td>\n",
       "      <td>154.60</td>\n",
       "      <td>23</td>\n",
       "      <td>7</td>\n",
       "      <td>2</td>\n",
       "      <td>mrs</td>\n",
       "      <td>in</td>\n",
       "      <td>grades_prek_2</td>\n",
       "      <td>literacy_language</td>\n",
       "      <td>esl_literacy</td>\n",
       "      <td>educ support english learner home</td>\n",
       "      <td>my student english learner work english second...</td>\n",
       "      <td>the limit languag limit world ludwig wittgenst...</td>\n",
       "      <td>my student need opportun practic begin read sk...</td>\n",
       "    </tr>\n",
       "    <tr>\n",
       "      <th>1</th>\n",
       "      <td>7</td>\n",
       "      <td>299.00</td>\n",
       "      <td>1</td>\n",
       "      <td>5</td>\n",
       "      <td>1</td>\n",
       "      <td>mr</td>\n",
       "      <td>fl</td>\n",
       "      <td>grades_6_8</td>\n",
       "      <td>history_civics_health_sports</td>\n",
       "      <td>civics_government_teamsports</td>\n",
       "      <td>want projector hungri learner</td>\n",
       "      <td>our student arriv school eager learn they poli...</td>\n",
       "      <td>the projector need school crucial academ impro...</td>\n",
       "      <td>my student need projector help view educ program</td>\n",
       "    </tr>\n",
       "    <tr>\n",
       "      <th>2</th>\n",
       "      <td>1</td>\n",
       "      <td>516.85</td>\n",
       "      <td>22</td>\n",
       "      <td>7</td>\n",
       "      <td>1</td>\n",
       "      <td>ms</td>\n",
       "      <td>az</td>\n",
       "      <td>grades_6_8</td>\n",
       "      <td>health_sports</td>\n",
       "      <td>health_wellness_teamsports</td>\n",
       "      <td>soccer equip awesom middl school student</td>\n",
       "      <td>r n true champion alway one win most gut by mi...</td>\n",
       "      <td>the student campus come school know face uphil...</td>\n",
       "      <td>my student need shine guard athlet sock soccer...</td>\n",
       "    </tr>\n",
       "  </tbody>\n",
       "</table>\n",
       "</div>\n",
       "      <button class=\"colab-df-convert\" onclick=\"convertToInteractive('df-05412efd-6512-4bf6-9dce-f23ebefcac70')\"\n",
       "              title=\"Convert this dataframe to an interactive table.\"\n",
       "              style=\"display:none;\">\n",
       "        \n",
       "  <svg xmlns=\"http://www.w3.org/2000/svg\" height=\"24px\"viewBox=\"0 0 24 24\"\n",
       "       width=\"24px\">\n",
       "    <path d=\"M0 0h24v24H0V0z\" fill=\"none\"/>\n",
       "    <path d=\"M18.56 5.44l.94 2.06.94-2.06 2.06-.94-2.06-.94-.94-2.06-.94 2.06-2.06.94zm-11 1L8.5 8.5l.94-2.06 2.06-.94-2.06-.94L8.5 2.5l-.94 2.06-2.06.94zm10 10l.94 2.06.94-2.06 2.06-.94-2.06-.94-.94-2.06-.94 2.06-2.06.94z\"/><path d=\"M17.41 7.96l-1.37-1.37c-.4-.4-.92-.59-1.43-.59-.52 0-1.04.2-1.43.59L10.3 9.45l-7.72 7.72c-.78.78-.78 2.05 0 2.83L4 21.41c.39.39.9.59 1.41.59.51 0 1.02-.2 1.41-.59l7.78-7.78 2.81-2.81c.8-.78.8-2.07 0-2.86zM5.41 20L4 18.59l7.72-7.72 1.47 1.35L5.41 20z\"/>\n",
       "  </svg>\n",
       "      </button>\n",
       "      \n",
       "  <style>\n",
       "    .colab-df-container {\n",
       "      display:flex;\n",
       "      flex-wrap:wrap;\n",
       "      gap: 12px;\n",
       "    }\n",
       "\n",
       "    .colab-df-convert {\n",
       "      background-color: #E8F0FE;\n",
       "      border: none;\n",
       "      border-radius: 50%;\n",
       "      cursor: pointer;\n",
       "      display: none;\n",
       "      fill: #1967D2;\n",
       "      height: 32px;\n",
       "      padding: 0 0 0 0;\n",
       "      width: 32px;\n",
       "    }\n",
       "\n",
       "    .colab-df-convert:hover {\n",
       "      background-color: #E2EBFA;\n",
       "      box-shadow: 0px 1px 2px rgba(60, 64, 67, 0.3), 0px 1px 3px 1px rgba(60, 64, 67, 0.15);\n",
       "      fill: #174EA6;\n",
       "    }\n",
       "\n",
       "    [theme=dark] .colab-df-convert {\n",
       "      background-color: #3B4455;\n",
       "      fill: #D2E3FC;\n",
       "    }\n",
       "\n",
       "    [theme=dark] .colab-df-convert:hover {\n",
       "      background-color: #434B5C;\n",
       "      box-shadow: 0px 1px 3px 1px rgba(0, 0, 0, 0.15);\n",
       "      filter: drop-shadow(0px 1px 2px rgba(0, 0, 0, 0.3));\n",
       "      fill: #FFFFFF;\n",
       "    }\n",
       "  </style>\n",
       "\n",
       "      <script>\n",
       "        const buttonEl =\n",
       "          document.querySelector('#df-05412efd-6512-4bf6-9dce-f23ebefcac70 button.colab-df-convert');\n",
       "        buttonEl.style.display =\n",
       "          google.colab.kernel.accessAllowed ? 'block' : 'none';\n",
       "\n",
       "        async function convertToInteractive(key) {\n",
       "          const element = document.querySelector('#df-05412efd-6512-4bf6-9dce-f23ebefcac70');\n",
       "          const dataTable =\n",
       "            await google.colab.kernel.invokeFunction('convertToInteractive',\n",
       "                                                     [key], {});\n",
       "          if (!dataTable) return;\n",
       "\n",
       "          const docLinkHtml = 'Like what you see? Visit the ' +\n",
       "            '<a target=\"_blank\" href=https://colab.research.google.com/notebooks/data_table.ipynb>data table notebook</a>'\n",
       "            + ' to learn more about interactive tables.';\n",
       "          element.innerHTML = '';\n",
       "          dataTable['output_type'] = 'display_data';\n",
       "          await google.colab.output.renderOutput(dataTable, element);\n",
       "          const docLink = document.createElement('div');\n",
       "          docLink.innerHTML = docLinkHtml;\n",
       "          element.appendChild(docLink);\n",
       "        }\n",
       "      </script>\n",
       "    </div>\n",
       "  </div>\n",
       "  "
      ],
      "text/plain": [
       "   teacher_number_of_previously_posted_projects   price  quantity  len_title  \\\n",
       "0                                             0  154.60        23          7   \n",
       "1                                             7  299.00         1          5   \n",
       "2                                             1  516.85        22          7   \n",
       "\n",
       "   len_stopword teacher_prefix school_state project_grade_category  \\\n",
       "0             2            mrs           in          grades_prek_2   \n",
       "1             1             mr           fl             grades_6_8   \n",
       "2             1             ms           az             grades_6_8   \n",
       "\n",
       "       project_subject_category   project_subject_subcategory  \\\n",
       "0             literacy_language                  esl_literacy   \n",
       "1  history_civics_health_sports  civics_government_teamsports   \n",
       "2                 health_sports    health_wellness_teamsports   \n",
       "\n",
       "                              project_title  \\\n",
       "0         educ support english learner home   \n",
       "1             want projector hungri learner   \n",
       "2  soccer equip awesom middl school student   \n",
       "\n",
       "                                     project_essay_1  \\\n",
       "0  my student english learner work english second...   \n",
       "1  our student arriv school eager learn they poli...   \n",
       "2  r n true champion alway one win most gut by mi...   \n",
       "\n",
       "                                     project_essay_2  \\\n",
       "0  the limit languag limit world ludwig wittgenst...   \n",
       "1  the projector need school crucial academ impro...   \n",
       "2  the student campus come school know face uphil...   \n",
       "\n",
       "                            project_resource_summary  \n",
       "0  my student need opportun practic begin read sk...  \n",
       "1   my student need projector help view educ program  \n",
       "2  my student need shine guard athlet sock soccer...  "
      ]
     },
     "execution_count": 129,
     "metadata": {},
     "output_type": "execute_result"
    }
   ],
   "source": [
    "print(x.shape)\n",
    "x.head(3)"
   ]
  },
  {
   "cell_type": "markdown",
   "id": "99a4f130",
   "metadata": {
    "id": "dad3bf96"
   },
   "source": [
    "# Splitting the Dataset:"
   ]
  },
  {
   "cell_type": "code",
   "execution_count": 130,
   "id": "611dc63b",
   "metadata": {
    "colab": {
     "base_uri": "https://localhost:8080/"
    },
    "id": "0b088a23",
    "outputId": "9a1189ff-6a14-4a14-da90-dab59aac89f9",
    "scrolled": true
   },
   "outputs": [
    {
     "name": "stdout",
     "output_type": "stream",
     "text": [
      "Original train data shape (74219, 14)\n",
      "====================================================================================================\n",
      "Original test data shape (31809, 14)\n",
      "====================================================================================================\n",
      "New train shape (51953, 14)\n",
      "====================================================================================================\n",
      "CV shape (22266, 14)\n",
      "====================================================================================================\n"
     ]
    }
   ],
   "source": [
    "x_train,x_test,y_train,y_test = train_test_split(x,y,test_size = 0.3,stratify = y,random_state = 0)\n",
    "\n",
    "x_trnew,x_cv,y_trnew,y_cv = train_test_split(x_train,y_train,test_size = 0.3,stratify = y_train,random_state = 0)\n",
    "\n",
    "print('Original train data shape',x_train.shape)\n",
    "print('='*100)\n",
    "print('Original test data shape',x_test.shape)\n",
    "print('='*100)\n",
    "print('New train shape',x_trnew.shape)\n",
    "print('='*100)\n",
    "print('CV shape',x_cv.shape)\n",
    "print('='*100)"
   ]
  },
  {
   "cell_type": "markdown",
   "id": "cb1fdc39",
   "metadata": {
    "id": "7e411ff5"
   },
   "source": [
    "# TF-IDF vectorization on 'Project_Title' "
   ]
  },
  {
   "cell_type": "code",
   "execution_count": 131,
   "id": "fb733092",
   "metadata": {
    "colab": {
     "base_uri": "https://localhost:8080/"
    },
    "id": "f592dd77",
    "outputId": "5e1590af-cbcc-4c2d-bcb8-886e4b985d53"
   },
   "outputs": [
    {
     "name": "stdout",
     "output_type": "stream",
     "text": [
      "After TF-IDF\n",
      "Original train data shape (74219, 1000)\n",
      "====================================================================================================\n",
      "Original test data shape (31809, 1000)\n"
     ]
    }
   ],
   "source": [
    "tfidf1 = TfidfVectorizer(min_df=10,ngram_range=(1,3), max_features=1000)\n",
    "\n",
    "tfidf_title_train_orignal = tfidf1.fit_transform(x_train['project_title'].values)\n",
    "tfidf_title_test_orignal = tfidf1.transform(x_test['project_title'].values)\n",
    "tfidf_title_train_new = tfidf1.transform(x_trnew['project_title'].values)\n",
    "tfidf_title_cv = tfidf1.transform(x_cv['project_title'].values)\n",
    "\n",
    "print('After TF-IDF')\n",
    "print('Original train data shape',tfidf_title_train_orignal.shape)\n",
    "print('='*100)\n",
    "print('Original test data shape',tfidf_title_test_orignal.shape)"
   ]
  },
  {
   "cell_type": "markdown",
   "id": "c3e01b2c",
   "metadata": {
    "id": "81a8469c"
   },
   "source": [
    "# TF-IDF vectorization on 'Essay 1'"
   ]
  },
  {
   "cell_type": "code",
   "execution_count": 132,
   "id": "99308f6a",
   "metadata": {
    "colab": {
     "base_uri": "https://localhost:8080/"
    },
    "id": "25a64779",
    "outputId": "6076d662-c103-402b-ea49-e6b6cc07afd0"
   },
   "outputs": [
    {
     "name": "stdout",
     "output_type": "stream",
     "text": [
      "After TF-IDF\n",
      "Original train data shape (74219, 1000)\n",
      "====================================================================================================\n",
      "Original test data shape (31809, 1000)\n"
     ]
    }
   ],
   "source": [
    "tfidf = TfidfVectorizer(min_df=10,ngram_range=(1,4), max_features=1000)\n",
    "\n",
    "tfidf_essay1_train_orignal = tfidf.fit_transform(x_train['project_essay_1'].values)\n",
    "tfidf_essay1_test_orignal = tfidf.transform(x_test['project_essay_1'].values)\n",
    "tfidf_essay1_train_new = tfidf.transform(x_trnew['project_essay_1'].values)\n",
    "tfidf_essay1_cv = tfidf.transform(x_cv['project_essay_1'].values)\n",
    "\n",
    "print('After TF-IDF')\n",
    "print('Original train data shape',tfidf_essay1_train_orignal.shape)\n",
    "print('='*100)\n",
    "print('Original test data shape',tfidf_essay1_test_orignal.shape)"
   ]
  },
  {
   "cell_type": "markdown",
   "id": "1b828d2b",
   "metadata": {
    "id": "a825b8e8"
   },
   "source": [
    "# TF-IDF vectorization on 'Essay 2' "
   ]
  },
  {
   "cell_type": "code",
   "execution_count": 133,
   "id": "e538a55f",
   "metadata": {
    "colab": {
     "base_uri": "https://localhost:8080/"
    },
    "id": "2c1b3be0",
    "outputId": "fe262044-b1c3-4376-ce8b-e24de4b3a6b4"
   },
   "outputs": [
    {
     "name": "stdout",
     "output_type": "stream",
     "text": [
      "After TF-IDF\n",
      "Original train data shape (74219, 1000)\n",
      "====================================================================================================\n",
      "Original test data shape (31809, 1000)\n"
     ]
    }
   ],
   "source": [
    "tfidf2 = TfidfVectorizer(min_df=10,ngram_range=(1,4), max_features=1000)\n",
    "\n",
    "tfidf_essay2_train_orignal = tfidf2.fit_transform(x_train['project_essay_2'].values)\n",
    "tfidf_essay2_test_orignal = tfidf2.transform(x_test['project_essay_2'].values)\n",
    "tfidf_essay2_train_new = tfidf2.transform(x_trnew['project_essay_2'].values)\n",
    "tfidf_essay2_cv = tfidf2.transform(x_cv['project_essay_2'].values)\n",
    "\n",
    "print('After TF-IDF')\n",
    "print('Original train data shape',tfidf_essay2_train_orignal.shape)\n",
    "print('='*100)\n",
    "print('Original test data shape',tfidf_essay2_test_orignal.shape)"
   ]
  },
  {
   "cell_type": "markdown",
   "id": "7bee7a21",
   "metadata": {
    "id": "d812d883"
   },
   "source": [
    "# TF-IDF vectorization on 'Resource summary' "
   ]
  },
  {
   "cell_type": "code",
   "execution_count": 134,
   "id": "13ae8e08",
   "metadata": {
    "colab": {
     "base_uri": "https://localhost:8080/"
    },
    "id": "f86a7c96",
    "outputId": "cc7c0a03-3400-4023-8aa1-e660a15ec3ad"
   },
   "outputs": [
    {
     "name": "stdout",
     "output_type": "stream",
     "text": [
      "After TF-IDF\n",
      "Original train data shape (74219, 1000)\n",
      "====================================================================================================\n",
      "Original test data shape (31809, 1000)\n"
     ]
    }
   ],
   "source": [
    "tfidf3 = TfidfVectorizer(min_df=10,ngram_range=(1,4), max_features=1000)\n",
    "\n",
    "tfidf_summary_train_orignal = tfidf3.fit_transform(x_train['project_resource_summary'].values)\n",
    "tfidf_summary_test_orignal = tfidf3.transform(x_test['project_resource_summary'].values)\n",
    "tfidf_summary_train_new = tfidf3.transform(x_trnew['project_resource_summary'].values)\n",
    "tfidf_summary_cv = tfidf3.transform(x_cv['project_resource_summary'].values)\n",
    "\n",
    "print('After TF-IDF')\n",
    "print('Original train data shape',tfidf_summary_train_orignal.shape)\n",
    "print('='*100)\n",
    "print('Original test data shape',tfidf_summary_test_orignal.shape)"
   ]
  },
  {
   "cell_type": "markdown",
   "id": "6d557637",
   "metadata": {
    "id": "dbb3f828"
   },
   "source": [
    "# One hot encoding for TEACHER_PREFIX:"
   ]
  },
  {
   "cell_type": "code",
   "execution_count": 135,
   "id": "3fe236db",
   "metadata": {
    "colab": {
     "base_uri": "https://localhost:8080/"
    },
    "id": "6aff0388",
    "outputId": "4607877d-e913-4635-fc97-3530fcde84c3"
   },
   "outputs": [
    {
     "name": "stdout",
     "output_type": "stream",
     "text": [
      "Original train data shape (74219, 5)\n",
      "====================================================================================================\n",
      "Original test data shape (31809, 5)\n",
      "====================================================================================================\n",
      "[0. 0. 1. 0. 0.]\n"
     ]
    }
   ],
   "source": [
    "ONE = OneHotEncoder(sparse = False, handle_unknown = 'ignore')\n",
    "\n",
    "teacher_pre_ohe_train_orig = ONE.fit_transform(x_train['teacher_prefix'].values.reshape(-1,1))\n",
    "teacher_pre_ohe_test_orig = ONE.transform(x_test['teacher_prefix'].values.reshape(-1,1))\n",
    "teacher_pre_ohe_train_new = ONE.transform(x_trnew['teacher_prefix'].values.reshape(-1,1))\n",
    "teacher_pre_ohe_cv = ONE.transform(x_cv['teacher_prefix'].values.reshape(-1,1))\n",
    "\n",
    "print('Original train data shape',teacher_pre_ohe_train_orig.shape)\n",
    "print('='*100)\n",
    "print('Original test data shape',teacher_pre_ohe_test_orig.shape)\n",
    "print('='*100)\n",
    "print(teacher_pre_ohe_train_orig[0])"
   ]
  },
  {
   "cell_type": "markdown",
   "id": "4dffc39e",
   "metadata": {
    "id": "076c628b"
   },
   "source": [
    "# OHE on project_grade_category"
   ]
  },
  {
   "cell_type": "code",
   "execution_count": 136,
   "id": "71808b53",
   "metadata": {
    "colab": {
     "base_uri": "https://localhost:8080/"
    },
    "id": "d1b099b4",
    "outputId": "9289e7ad-5386-4c7f-ac79-3922f2335201"
   },
   "outputs": [
    {
     "name": "stdout",
     "output_type": "stream",
     "text": [
      "Original train data shape (74219, 4)\n",
      "====================================================================================================\n",
      "Original test data shape (31809, 4)\n",
      "====================================================================================================\n",
      "[1. 0. 0. 0.]\n"
     ]
    }
   ],
   "source": [
    "ONEa = OneHotEncoder(sparse = False, handle_unknown = 'ignore')\n",
    "\n",
    "pg_ohe_train_orig = ONEa.fit_transform(x_train['project_grade_category'].values.reshape(-1,1))\n",
    "pg_ohe_test_orig = ONEa.transform(x_test['project_grade_category'].values.reshape(-1,1))\n",
    "pg_ohe_train_new = ONEa.transform(x_trnew['project_grade_category'].values.reshape(-1,1))\n",
    "pg_ohe_cv = ONEa.transform(x_cv['project_grade_category'].values.reshape(-1,1))\n",
    "\n",
    "print('Original train data shape',pg_ohe_train_orig.shape)\n",
    "print('='*100)\n",
    "print('Original test data shape',pg_ohe_test_orig.shape)\n",
    "print('='*100)\n",
    "print(pg_ohe_train_orig[0])"
   ]
  },
  {
   "cell_type": "markdown",
   "id": "68c58a10",
   "metadata": {
    "id": "b5d183c7"
   },
   "source": [
    "# OHE on school state"
   ]
  },
  {
   "cell_type": "code",
   "execution_count": 137,
   "id": "48ba721c",
   "metadata": {
    "colab": {
     "base_uri": "https://localhost:8080/"
    },
    "id": "ba921174",
    "outputId": "3871f03c-e668-4581-bb69-c57443ecf72f"
   },
   "outputs": [
    {
     "name": "stdout",
     "output_type": "stream",
     "text": [
      "Original train data shape (74219, 51)\n",
      "====================================================================================================\n",
      "Original test data shape (31809, 51)\n",
      "====================================================================================================\n",
      "[0. 0. 0. 0. 1. 0. 0. 0. 0. 0. 0. 0. 0. 0. 0. 0. 0. 0. 0. 0. 0. 0. 0. 0.\n",
      " 0. 0. 0. 0. 0. 0. 0. 0. 0. 0. 0. 0. 0. 0. 0. 0. 0. 0. 0. 0. 0. 0. 0. 0.\n",
      " 0. 0. 0.]\n"
     ]
    }
   ],
   "source": [
    "ONEb = OneHotEncoder(sparse = False, handle_unknown = 'ignore')\n",
    "\n",
    "ss_train_orig = ONEb.fit_transform(x_train['school_state'].values.reshape(-1,1))\n",
    "ss_test_orig = ONEb.transform(x_test['school_state'].values.reshape(-1,1))\n",
    "ss_train_new = ONEb.transform(x_trnew['school_state'].values.reshape(-1,1))\n",
    "ss_cv = ONEb.transform(x_cv['school_state'].values.reshape(-1,1))\n",
    "\n",
    "print('Original train data shape',ss_train_orig.shape)\n",
    "print('='*100)\n",
    "print('Original test data shape',ss_test_orig.shape)\n",
    "print('='*100)\n",
    "print(ss_train_orig[0])"
   ]
  },
  {
   "cell_type": "markdown",
   "id": "f330931b",
   "metadata": {
    "id": "3505ed78"
   },
   "source": [
    "# OHE on subject_categories"
   ]
  },
  {
   "cell_type": "code",
   "execution_count": 138,
   "id": "692afc90",
   "metadata": {
    "colab": {
     "base_uri": "https://localhost:8080/"
    },
    "id": "5141d57a",
    "outputId": "54dd4e09-2005-4063-80ab-0bf423adbf8d"
   },
   "outputs": [
    {
     "name": "stdout",
     "output_type": "stream",
     "text": [
      "Original train data shape (74219, 51)\n",
      "====================================================================================================\n",
      "Original test data shape (31809, 51)\n"
     ]
    }
   ],
   "source": [
    "ONEc = OneHotEncoder(sparse = False, handle_unknown = 'ignore')\n",
    "\n",
    "cc_train_orig = ONEc.fit_transform(x_train['project_subject_category'].values.reshape(-1,1))\n",
    "cc_test_orig = ONEc.transform(x_test['project_subject_category'].values.reshape(-1,1))\n",
    "cc_train_new = ONEc.transform(x_trnew['project_subject_category'].values.reshape(-1,1))\n",
    "cc_cv = ONEc.transform(x_cv['project_subject_category'].values.reshape(-1,1))\n",
    "\n",
    "print('Original train data shape',cc_train_orig.shape)\n",
    "print('='*100)\n",
    "print('Original test data shape',cc_test_orig.shape)"
   ]
  },
  {
   "cell_type": "markdown",
   "id": "9a088bec",
   "metadata": {
    "id": "578f9164"
   },
   "source": [
    "# OHE on subject_subcategories"
   ]
  },
  {
   "cell_type": "code",
   "execution_count": 139,
   "id": "950db9b4",
   "metadata": {
    "colab": {
     "base_uri": "https://localhost:8080/"
    },
    "id": "22c1691f",
    "outputId": "f3049fa8-dfe8-4b60-d138-ac5919a2287b"
   },
   "outputs": [
    {
     "name": "stdout",
     "output_type": "stream",
     "text": [
      "Original train data shape (74219, 392)\n",
      "====================================================================================================\n",
      "Original test data shape (31809, 392)\n"
     ]
    }
   ],
   "source": [
    "ONEd = OneHotEncoder(sparse = False, handle_unknown = 'ignore')\n",
    "\n",
    "csc_train_orig = ONEd.fit_transform(x_train['project_subject_subcategory'].values.reshape(-1,1))\n",
    "csc_test_orig = ONEd.transform(x_test['project_subject_subcategory'].values.reshape(-1,1))\n",
    "csc_train_new = ONEd.transform(x_trnew['project_subject_subcategory'].values.reshape(-1,1))\n",
    "csc_cv = ONEd.transform(x_cv['project_subject_subcategory'].values.reshape(-1,1))\n",
    "\n",
    "print('Original train data shape',csc_train_orig.shape)\n",
    "print('='*100)\n",
    "print('Original test data shape',csc_test_orig.shape)"
   ]
  },
  {
   "cell_type": "markdown",
   "id": "922585c4",
   "metadata": {
    "id": "fa8a4540"
   },
   "source": [
    "# Normalization of number of previously posted projects"
   ]
  },
  {
   "cell_type": "code",
   "execution_count": 140,
   "id": "89383384",
   "metadata": {
    "colab": {
     "base_uri": "https://localhost:8080/"
    },
    "id": "1febed00",
    "outputId": "4f2bd6a9-5305-480f-ff93-2d07fa688f58"
   },
   "outputs": [
    {
     "name": "stdout",
     "output_type": "stream",
     "text": [
      "Original train data shape (74219, 1)\n",
      "====================================================================================================\n",
      "Original test data shape for number of projects (31809, 1)\n",
      "====================================================================================================\n",
      "[[0.00719424]\n",
      " [0.05755396]\n",
      " [0.00719424]\n",
      " [0.00719424]\n",
      " [0.20143885]]\n"
     ]
    }
   ],
   "source": [
    "scaled = MinMaxScaler()\n",
    "scaled.fit(x_train['teacher_number_of_previously_posted_projects'].values.reshape(-1,1))\n",
    "\n",
    "numprojects_train_orig = scaled.transform(x_train['teacher_number_of_previously_posted_projects'].values.reshape(-1,1))\n",
    "numprojects_test_orig = scaled.transform(x_test['teacher_number_of_previously_posted_projects'].values.reshape(-1,1))\n",
    "numprojects_train_new = scaled.transform(x_trnew['teacher_number_of_previously_posted_projects'].values.reshape(-1,1))\n",
    "numprojects_cv = scaled.transform(x_cv['teacher_number_of_previously_posted_projects'].values.reshape(-1,1))\n",
    "\n",
    "print('Original train data shape',numprojects_train_orig.shape)\n",
    "print('='*100)\n",
    "print('Original test data shape for number of projects',numprojects_test_orig.shape)\n",
    "print('='*100)\n",
    "print(numprojects_train_orig[:5])"
   ]
  },
  {
   "cell_type": "markdown",
   "id": "f7e63b60",
   "metadata": {
    "id": "b7716d01"
   },
   "source": [
    "# Normalization of price:"
   ]
  },
  {
   "cell_type": "code",
   "execution_count": 141,
   "id": "e2ff7f1d",
   "metadata": {
    "colab": {
     "base_uri": "https://localhost:8080/"
    },
    "id": "e9d2a7c1",
    "outputId": "68596f67-4930-440c-efd7-ee6b90699d3b"
   },
   "outputs": [
    {
     "name": "stdout",
     "output_type": "stream",
     "text": [
      "Original train data shape (74219, 1)\n",
      "====================================================================================================\n",
      "Original test data shape for number of projects (31809, 1)\n",
      "====================================================================================================\n",
      "[[0.1343887 ]\n",
      " [0.04658185]\n",
      " [0.22360425]\n",
      " [0.20627661]\n",
      " [0.0460449 ]]\n"
     ]
    }
   ],
   "source": [
    "scaled.fit(x_train['price'].values.reshape(-1,1))\n",
    "\n",
    "price_train_orig = scaled.transform(x_train['price'].values.reshape(-1,1))\n",
    "price_test_orig = scaled.transform(x_test['price'].values.reshape(-1,1))\n",
    "price_train_new = scaled.transform(x_trnew['price'].values.reshape(-1,1))\n",
    "price_cv = scaled.transform(x_cv['price'].values.reshape(-1,1))\n",
    "\n",
    "print('Original train data shape',price_train_orig.shape)\n",
    "print('='*100)\n",
    "print('Original test data shape for number of projects',price_test_orig.shape)\n",
    "print('='*100)\n",
    "print(price_train_orig[:5])"
   ]
  },
  {
   "cell_type": "markdown",
   "id": "87ee9b30",
   "metadata": {
    "id": "798977fd"
   },
   "source": [
    "# Normalization of quantity:"
   ]
  },
  {
   "cell_type": "code",
   "execution_count": 142,
   "id": "184bf201",
   "metadata": {
    "colab": {
     "base_uri": "https://localhost:8080/"
    },
    "id": "cd5d1356",
    "outputId": "a4f1dff4-4699-490d-c1fe-484c9b6b92f9"
   },
   "outputs": [
    {
     "name": "stdout",
     "output_type": "stream",
     "text": [
      "Original train data shape (74219, 1)\n",
      "====================================================================================================\n",
      "Original test data shape for number of projects (31809, 1)\n",
      "====================================================================================================\n",
      "[[0.05882353]\n",
      " [0.03361345]\n",
      " [0.10084034]\n",
      " [0.07563025]\n",
      " [0.10084034]]\n"
     ]
    }
   ],
   "source": [
    "scaled.fit(x_train['quantity'].values.reshape(-1,1))\n",
    "\n",
    "quantity_train_orig = scaled.transform(x_train['quantity'].values.reshape(-1,1))\n",
    "quantity_test_orig = scaled.transform(x_test['quantity'].values.reshape(-1,1))\n",
    "quantity_train_new = scaled.transform(x_trnew['quantity'].values.reshape(-1,1))\n",
    "quantity_cv = scaled.transform(x_cv['quantity'].values.reshape(-1,1))\n",
    "\n",
    "print('Original train data shape',quantity_train_orig.shape)\n",
    "print('='*100)\n",
    "print('Original test data shape for number of projects',quantity_test_orig.shape)\n",
    "print('='*100)\n",
    "print(quantity_train_orig[:5])"
   ]
  },
  {
   "cell_type": "markdown",
   "id": "7c167293",
   "metadata": {
    "id": "56519928"
   },
   "source": [
    "# Concatenating:"
   ]
  },
  {
   "cell_type": "code",
   "execution_count": 143,
   "id": "6313adf1",
   "metadata": {
    "colab": {
     "base_uri": "https://localhost:8080/"
    },
    "id": "17fe6540",
    "outputId": "3acbb188-15e6-4843-b4f2-e0164c100c00"
   },
   "outputs": [
    {
     "name": "stdout",
     "output_type": "stream",
     "text": [
      "Final Data matrix\n",
      "(74219, 4506) (74219,)\n",
      "(31809, 4506) (31809,)\n",
      "(51953, 4506) (51953,)\n",
      "(22266, 4506) (22266,)\n",
      "====================================================================================================\n"
     ]
    }
   ],
   "source": [
    "X_train = hstack((tfidf_title_train_orignal,tfidf_essay1_train_orignal,tfidf_essay2_train_orignal,tfidf_summary_train_orignal,teacher_pre_ohe_train_orig,pg_ohe_train_orig,ss_train_orig,cc_train_orig,csc_train_orig,numprojects_train_orig,price_train_orig,quantity_train_orig)).tocsr()\n",
    "X_test = hstack((tfidf_title_test_orignal,tfidf_essay1_test_orignal,tfidf_essay2_test_orignal,tfidf_summary_test_orignal,teacher_pre_ohe_test_orig,pg_ohe_test_orig,ss_test_orig,cc_test_orig,csc_test_orig,numprojects_test_orig,price_test_orig,quantity_test_orig)).tocsr()\n",
    "X_trn = hstack((tfidf_title_train_new,tfidf_essay1_train_new,tfidf_essay2_train_new,tfidf_summary_train_new,teacher_pre_ohe_train_new,pg_ohe_train_new,ss_train_new,cc_train_new,csc_train_new,numprojects_train_new,price_train_new,quantity_train_new)).tocsr()\n",
    "X_cv = hstack((tfidf_title_cv,tfidf_essay1_cv,tfidf_essay2_cv,tfidf_summary_cv,teacher_pre_ohe_cv,pg_ohe_cv,ss_cv,cc_cv,csc_cv,numprojects_cv,price_cv,quantity_cv)).tocsr()\n",
    "\n",
    "print(\"Final Data matrix\")\n",
    "print(X_train.shape, y_train.shape)\n",
    "print(X_test.shape, y_test.shape)\n",
    "print(X_trn.shape, y_trnew.shape)\n",
    "print(X_cv.shape, y_cv.shape)\n",
    "print(\"=\"*100)"
   ]
  },
  {
   "cell_type": "markdown",
   "id": "6462192e",
   "metadata": {
    "id": "e7161e28"
   },
   "source": [
    "# ML Model:"
   ]
  },
  {
   "cell_type": "markdown",
   "id": "a8951d1d",
   "metadata": {
    "id": "9a524245"
   },
   "source": [
    "# Applying Naive Bayes with hyperparameter tuning:"
   ]
  },
  {
   "cell_type": "code",
   "execution_count": 144,
   "id": "8614f18c",
   "metadata": {
    "colab": {
     "base_uri": "https://localhost:8080/",
     "height": 312
    },
    "id": "1054dbce",
    "outputId": "654f8b68-811b-4e2c-e396-ee987af59d70"
   },
   "outputs": [
    {
     "name": "stderr",
     "output_type": "stream",
     "text": [
      "100%|██████████| 11/11 [00:02<00:00,  5.05it/s]\n"
     ]
    },
    {
     "data": {
      "image/png": "[encoded data removed]",
      "text/plain": [
       "<Figure size 432x288 with 1 Axes>"
      ]
     },
     "metadata": {
      "needs_background": "light"
     },
     "output_type": "display_data"
    }
   ],
   "source": [
    "new_train_auc = [] # this stores the training scores\n",
    "cv_auc = [] # this stores the CV scores\n",
    "\n",
    "alpha = [0.1,0.5,1,5,10,50,80,100,120,140,200] # trying different values of alpha to find the best one\n",
    "for i in tqdm(alpha):\n",
    "    naive = MultinomialNB(alpha=i,class_prior = [0.5, 0.5])\n",
    "    naive.fit(X_trn, y_trnew)\n",
    "\n",
    "    y_newtrain_pred =  naive.predict_proba(X_trn)[:,1] # getting probability values for approved projects from train data\n",
    "    y_cv_pred = naive.predict_proba(X_cv)[:,1] # getting probability values for approved projects from CV data\n",
    "     \n",
    "    new_train_auc.append(roc_auc_score(y_trnew,y_newtrain_pred)) # appending the auc scores for train data\n",
    "    cv_auc.append(roc_auc_score(y_cv,y_cv_pred)) # appending the auc scores for CV data\n",
    "\n",
    "# Plotting the AUC values to check the best alpha which gives good AUC score with much less overfitting\n",
    "plt.plot(alpha, new_train_auc, label='Train AUC')\n",
    "plt.plot(alpha, cv_auc, label='CV AUC')\n",
    "\n",
    "plt.scatter(alpha, new_train_auc, label='Train AUC points')\n",
    "plt.scatter(alpha, cv_auc, label='CV AUC points')\n",
    "\n",
    "plt.legend()\n",
    "plt.xlabel(\"Alpha: hyperparameter\")\n",
    "plt.ylabel(\"AUC\")\n",
    "plt.title(\"ERROR PLOTS ON BOW\")\n",
    "plt.grid()\n",
    "plt.show()"
   ]
  },
  {
   "cell_type": "markdown",
   "id": "bc612cd4",
   "metadata": {
    "id": "8f18836a"
   },
   "source": [
    "# Fitting model to best value of alpha: (11)"
   ]
  },
  {
   "cell_type": "code",
   "execution_count": 145,
   "id": "2d26752e",
   "metadata": {
    "colab": {
     "base_uri": "https://localhost:8080/"
    },
    "id": "02d602c9",
    "outputId": "60602558-af40-4ddb-99c0-1cb6016e3c55"
   },
   "outputs": [
    {
     "name": "stdout",
     "output_type": "stream",
     "text": [
      "0.7012320454546372\n",
      "0.6814699114301265\n"
     ]
    }
   ],
   "source": [
    "best_alpha = 11\n",
    "naive = MultinomialNB(alpha=best_alpha,class_prior = [0.5, 0.5])\n",
    "naive.fit(X_train, y_train)\n",
    "\n",
    "naive_train_pred =  naive.predict_proba(X_train)[:,1]\n",
    "naive_test_pred = naive.predict_proba(X_test)[:,1]\n",
    "\n",
    "naive_train_score = roc_auc_score(y_train,naive_train_pred)\n",
    "naive_test_score = roc_auc_score(y_test,naive_test_pred)\n",
    "\n",
    "print(naive_train_score)\n",
    "print(naive_test_score)"
   ]
  },
  {
   "cell_type": "code",
   "execution_count": 146,
   "id": "f80416c6",
   "metadata": {
    "colab": {
     "base_uri": "https://localhost:8080/",
     "height": 295
    },
    "id": "f026d90d",
    "outputId": "fcdb7d20-4af4-4dff-ad21-8edfc816363f"
   },
   "outputs": [
    {
     "data": {
      "image/png": "[encoded data removed]",
      "text/plain": [
       "<Figure size 432x288 with 1 Axes>"
      ]
     },
     "metadata": {
      "needs_background": "light"
     },
     "output_type": "display_data"
    }
   ],
   "source": [
    "train_fpr, train_tpr, tr_thresholds = roc_curve(y_train, naive_train_pred)\n",
    "test_fpr, test_tpr, te_thresholds = roc_curve(y_test, naive_test_pred)\n",
    "\n",
    "plt.plot(train_fpr, train_tpr, label=\"train AUC =\"+str(auc(train_fpr, train_tpr)))\n",
    "plt.plot(test_fpr, test_tpr, label=\"test AUC =\"+str(auc(test_fpr, test_tpr)))\n",
    "plt.legend()\n",
    "plt.xlabel(\"Alpha: hyperparameter\")\n",
    "plt.ylabel(\"AUC\")\n",
    "plt.title(\"ERROR PLOTS\")\n",
    "plt.grid()\n",
    "plt.show()"
   ]
  },
  {
   "cell_type": "markdown",
   "id": "bcc0100e",
   "metadata": {
    "id": "a06ce65e"
   },
   "source": [
    "# Applying Random Forest with Randomdized Search CV:"
   ]
  },
  {
   "cell_type": "code",
   "execution_count": 147,
   "id": "67500a8b",
   "metadata": {
    "colab": {
     "base_uri": "https://localhost:8080/",
     "height": 70
    },
    "id": "8d30b8bf",
    "outputId": "6eca27f6-eb58-4f02-8f79-69fe502aadce"
   },
   "outputs": [
    {
     "data": {
      "application/vnd.google.colaboratory.intrinsic+json": {
       "type": "string"
      },
      "text/plain": [
       "\"\\n# Defining some parameters:\\ntrees = [5,8,10,15,20,25,30,50]\\ndepth = [2,4,6,8,10]\\nmin_sample = [2,5,7]\\n\\nparameters = {'n_estimators':trees,'max_depth':depth,'min_samples_split':min_sample}\\n\\nrf = RandomForestClassifier()\\nrandom_search = RandomizedSearchCV(estimator = rf, param_distributions = parameters, cv = 10)\\nrandom_search.fit(X_train, y_train)\\n\\nrandom_search.best_params_\\n\\n\""
      ]
     },
     "execution_count": 147,
     "metadata": {},
     "output_type": "execute_result"
    }
   ],
   "source": [
    "'''\n",
    "# Defining some parameters:\n",
    "trees = [5,8,10,15,20,25,30,50]\n",
    "depth = [2,4,6,8,10]\n",
    "min_sample = [2,5,7]\n",
    "\n",
    "parameters = {'n_estimators':trees,'max_depth':depth,'min_samples_split':min_sample}\n",
    "\n",
    "rf = RandomForestClassifier()\n",
    "random_search = RandomizedSearchCV(estimator = rf, param_distributions = parameters, cv = 10)\n",
    "random_search.fit(X_train, y_train)\n",
    "\n",
    "random_search.best_params_\n",
    "\n",
    "'''"
   ]
  },
  {
   "cell_type": "markdown",
   "id": "891ba94c",
   "metadata": {
    "id": "e6f44267"
   },
   "source": [
    "-- Adjusting the best hyperparameters obtained to--->(n_estimators= 40, min_samples_split= 7, max_depth=5,max_samples = 0.5) for avoiding overfitting to the training data."
   ]
  },
  {
   "cell_type": "markdown",
   "id": "c8763238",
   "metadata": {
    "id": "241262e6"
   },
   "source": [
    "# Random Forest on Best Hyperparameters:"
   ]
  },
  {
   "cell_type": "code",
   "execution_count": 148,
   "id": "445d780a",
   "metadata": {
    "colab": {
     "base_uri": "https://localhost:8080/"
    },
    "id": "5d00d2d9",
    "outputId": "1b9bc638-0a1e-41a3-864b-27f7fd35d858"
   },
   "outputs": [
    {
     "name": "stdout",
     "output_type": "stream",
     "text": [
      "0.7395949092508893\n",
      "0.7015863097148183\n"
     ]
    }
   ],
   "source": [
    "rf_best = RandomForestClassifier(n_estimators= 40, min_samples_split= 7, max_depth=5,max_samples = 0.5, criterion = 'entropy', random_state = 0)\n",
    "rf_best.fit(X_train,y_train)\n",
    "sig_clf = CalibratedClassifierCV(rf_best, method=\"sigmoid\")\n",
    "sig_clf.fit(X_train, y_train)\n",
    "\n",
    "rf_train_predict = sig_clf.predict_proba(X_train)[:,1]\n",
    "rf_test_predict = sig_clf.predict_proba(X_test)[:,1]\n",
    "\n",
    "rf_train_score = roc_auc_score(y_train,rf_train_predict)\n",
    "rf_test_score = roc_auc_score(y_test,rf_test_predict)\n",
    "\n",
    "print(rf_train_score)\n",
    "print(rf_test_score)"
   ]
  },
  {
   "cell_type": "markdown",
   "id": "ff241e49",
   "metadata": {
    "id": "a9b26c31"
   },
   "source": [
    "- Train AUC score = 0.74, Test AUC score = 0.701\n"
   ]
  },
  {
   "cell_type": "markdown",
   "id": "bc7821cf",
   "metadata": {
    "id": "044f9d0e"
   },
   "source": [
    "# XGBoost"
   ]
  },
  {
   "cell_type": "code",
   "execution_count": 149,
   "id": "de4f0136",
   "metadata": {
    "colab": {
     "base_uri": "https://localhost:8080/",
     "height": 70
    },
    "id": "7e61f43d",
    "outputId": "cf01abeb-109d-4e52-8a03-ad9401a737c5"
   },
   "outputs": [
    {
     "data": {
      "application/vnd.google.colaboratory.intrinsic+json": {
       "type": "string"
      },
      "text/plain": [
       "\"\\n#params = {'learning_rate': [0.03,0.05,0.10,0.15],\\n          #'max_depth': [3,4,5,6,8],\\n          #'min_child_weight': [1,3,5,7],\\n          #'gamma': [0.1,0.2,0.3,0.4],\\n          #'colsample_bytree': [0.3,0.4,0.5,0.7]\\n         # }\\n#classifier = xgb.XGBClassifier()\\n#random_cv = RandomizedSearchCV(classifier,param_distributions = params, n_iter = 5,scoring = 'roc_auc',cv = 5, verbose = 3)\\n#random_cv.fit(X_train,y_train)\\n\\n#random_cv.best_params_\\n\\n\""
      ]
     },
     "execution_count": 149,
     "metadata": {},
     "output_type": "execute_result"
    }
   ],
   "source": [
    "import xgboost as xgb\n",
    "\n",
    "'''\n",
    "#params = {'learning_rate': [0.03,0.05,0.10,0.15],\n",
    "          #'max_depth': [3,4,5,6,8],\n",
    "          #'min_child_weight': [1,3,5,7],\n",
    "          #'gamma': [0.1,0.2,0.3,0.4],\n",
    "          #'colsample_bytree': [0.3,0.4,0.5,0.7]\n",
    "         # }\n",
    "#classifier = xgb.XGBClassifier()\n",
    "#random_cv = RandomizedSearchCV(classifier,param_distributions = params, n_iter = 5,scoring = 'roc_auc',cv = 5, verbose = 3)\n",
    "#random_cv.fit(X_train,y_train)\n",
    "\n",
    "#random_cv.best_params_\n",
    "\n",
    "'''"
   ]
  },
  {
   "cell_type": "code",
   "execution_count": 150,
   "id": "10f6deae",
   "metadata": {
    "colab": {
     "base_uri": "https://localhost:8080/"
    },
    "id": "ac64a61a",
    "outputId": "71eba3a1-48a4-4a26-fe92-377ed5d17566"
   },
   "outputs": [
    {
     "name": "stdout",
     "output_type": "stream",
     "text": [
      "0.7710956915091236\n",
      "0.7308144733268176\n"
     ]
    }
   ],
   "source": [
    "classifier = xgb.XGBClassifier(colsample_bytree = 0.3,gamma= 0.8,learning_rate= 0.06,max_depth= 4,min_child_weight=8)\n",
    "classifier.fit(X_train,y_train)\n",
    "xgboost_pred_train = classifier.predict_proba(X_train)[:,1]\n",
    "xgboost_pred_test = classifier.predict_proba(X_test)[:,1]\n",
    "\n",
    "xgb_train_uc = roc_auc_score(y_train,xgboost_pred_train)\n",
    "xgb_test_auc = roc_auc_score(y_test,xgboost_pred_test)\n",
    "\n",
    "print(xgb_train_uc)\n",
    "print(xgb_test_auc)\n"
   ]
  },
  {
   "cell_type": "markdown",
   "id": "69fe5214",
   "metadata": {
    "id": "aafdbe36"
   },
   "source": [
    "- Train AUC Score = 0.77, Test AUC Score = 0.73"
   ]
  }
 ],
 "metadata": {
  "accelerator": "GPU",
  "colab": {
   "collapsed_sections": [
    "fcadb00c",
    "9bef9e52"
   ],
   "name": "Donor's_dataset_sigma.ipynb",
   "provenance": []
  },
  "gpuClass": "standard",
  "kernelspec": {
   "display_name": "Python 3",
   "language": "python",
   "name": "python3"
  },
  "language_info": {
   "codemirror_mode": {
    "name": "ipython",
    "version": 3
   },
   "file_extension": ".py",
   "mimetype": "text/x-python",
   "name": "python",
   "nbconvert_exporter": "python",
   "pygments_lexer": "ipython3",
   "version": "3.6.5"
  }
 },
 "nbformat": 4,
 "nbformat_minor": 5
}
